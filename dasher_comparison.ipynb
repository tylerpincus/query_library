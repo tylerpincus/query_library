{
 "cells": [
  {
   "cell_type": "markdown",
   "metadata": {},
   "source": [
    "Notebook to download and clean data (from snowflake) that needs to be shipped to Experian on a monthly basis to get it appended"
   ]
  },
  {
   "cell_type": "code",
   "execution_count": null,
   "metadata": {},
   "outputs": [],
   "source": [
    "import pandas as pd\n",
    "\n",
    "import snowflake.connector\n",
    "\n",
    "import numpy as np\n",
    "\n",
    "%matplotlib inline\n",
    "\n",
    "import matplotlib.pyplot as plt \n",
    "\n",
    "from pydataset import data\n",
    "\n",
    "from datetime import datetime, timedelta\n",
    "\n",
    "from IPython.core.interactiveshell import InteractiveShell\n",
    "InteractiveShell.ast_node_interactivity = \"all\"\n",
    "\n",
    "pd.options.display.max_rows = 1000\n",
    "pd.options.display.max_columns = 1000"
   ]
  },
  {
   "cell_type": "code",
   "execution_count": null,
   "metadata": {},
   "outputs": [],
   "source": [
    "import config as cfg"
   ]
  },
  {
   "cell_type": "code",
   "execution_count": null,
   "metadata": {},
   "outputs": [],
   "source": [
    "snowflake_user = cfg.snowflake_access['snowflake_user']\n",
    "snowflake_pass = cfg.snowflake_access['snowflake_pass']\n",
    "snowflake_acct = cfg.snowflake_access['snowflake_acct']\n",
    "snowflake_wh = 'BIRDFACTS_PROD_WAREHOUSE'\n",
    "snowflake_db = 'BIRDFACTSDEV'\n",
    "snowflake_schema = 'BIRDFACTS_ANALYTICS'\n",
    "\n",
    "con = snowflake.connector.connect(\n",
    "    user = snowflake_user,\n",
    "    password = snowflake_pass,\n",
    "    account = snowflake_acct,\n",
    "    warehouse = snowflake_wh,\n",
    "    database = snowflake_db,\n",
    "    schema = snowflake_schema\n",
    ")\n",
    "\n",
    "cs = con.cursor()"
   ]
  },
  {
   "cell_type": "markdown",
   "metadata": {},
   "source": [
    "### All customers broken down by product, timeline and New/Existing status"
   ]
  },
  {
   "cell_type": "code",
   "execution_count": null,
   "metadata": {},
   "outputs": [],
   "source": [
    "dashers_query = \"\"\"\n",
    "select * from\n",
    "(\n",
    "select \n",
    "case \n",
    "when happened_at_local_date between '2020-01-01' and '2020-04-27' then 'Jan1-Apr27-2020' \n",
    "when happened_at_local_date between '2020-04-28' and '2020-05-16' then 'Apr28-May16-2020' \n",
    "when happened_at_local_date between '2019-09-18' and '2019-10-07' then 'Sep18-Oct07-2019'\n",
    "when happened_at_local_date between '2019-06-14' and '2019-07-03' then 'Jun14-Jul03-2019'\n",
    "end as timeline,\n",
    "taxonomy_style,\n",
    "is_new_customer,\n",
    "sum(gross_sales_usd) as gross_sales,\n",
    "count(distinct customer_id) as num_customers\n",
    "from\n",
    "fact_sales\n",
    "where \n",
    "taxonomy_category = 'Shoes'\n",
    "and\n",
    "((happened_at_local_date between '2020-01-01' and '2020-05-16')\n",
    "or (happened_at_local_date between '2019-09-18' and '2019-10-07')\n",
    "or (happened_at_local_date between '2019-06-14' and '2019-07-03'))\n",
    "and sales_channel = 'eCommerce'\n",
    "and profit_center_country = 'United States'\n",
    "group by 1,2,3\n",
    "order by 1,2,3\n",
    ")\n",
    "where not (taxonomy_style = 'Dasher' and timeline = 'Jan1-Apr27-2020')\n",
    "\"\"\""
   ]
  },
  {
   "cell_type": "code",
   "execution_count": null,
   "metadata": {},
   "outputs": [],
   "source": [
    "dashers = pd.DataFrame(cs.execute(dashers_query).fetchall(),\n",
    "                           columns = ([col[0] for col in cs.description]))"
   ]
  },
  {
   "cell_type": "code",
   "execution_count": null,
   "metadata": {},
   "outputs": [],
   "source": [
    "dashers['GROSS_SALES'] = pd.to_numeric(dashers['GROSS_SALES'])\n",
    "dashers['NUM_CUSTOMERS'] = pd.to_numeric(dashers['NUM_CUSTOMERS'])"
   ]
  },
  {
   "cell_type": "code",
   "execution_count": null,
   "metadata": {},
   "outputs": [],
   "source": [
    "dashers['PRODUCT'] = np.where((dashers['TIMELINE'] == 'Jun14-Jul03-2019')&(dashers['TAXONOMY_STYLE'] == 'Tree Breezer'), 'Breezer',\n",
    "                                          np.where((dashers['TIMELINE'] == 'Sep18-Oct07-2019')&(dashers['TAXONOMY_STYLE'].isin(['Wool Runner Mizzle', 'Wool Runner-up Mizzle'])), 'Mizzle',\n",
    "                                                  np.where(dashers['TIMELINE'] == 'Jan1-Apr27-2020', 'All', \n",
    "                                                          np.where((dashers['TIMELINE'] == 'Apr28-May16-2020')&(dashers['TAXONOMY_STYLE'] == 'Tree Dasher'), 'Dasher',\n",
    "                                                                  np.where((dashers['TIMELINE'] == 'Apr28-May16-2020')&(dashers['TAXONOMY_STYLE'] != 'Tree Dasher'), 'Non-Dasher', 'Rest')))))"
   ]
  },
  {
   "cell_type": "code",
   "execution_count": null,
   "metadata": {},
   "outputs": [],
   "source": [
    "dashers = dashers[~dashers['PRODUCT'].isin(['Rest'])]"
   ]
  },
  {
   "cell_type": "code",
   "execution_count": null,
   "metadata": {},
   "outputs": [],
   "source": [
    "dashers_new_pivot = dashers[dashers['IS_NEW_CUSTOMER'] == True].pivot_table(index = ['TIMELINE','PRODUCT'], \n",
    "                                 columns = ['IS_NEW_CUSTOMER'], \n",
    "                                 values = ['GROSS_SALES', 'NUM_CUSTOMERS'],\n",
    "                                 aggfunc = 'sum')"
   ]
  },
  {
   "cell_type": "code",
   "execution_count": null,
   "metadata": {},
   "outputs": [],
   "source": [
    "dashers_old_pivot = dashers[dashers['IS_NEW_CUSTOMER'] == False].pivot_table(index = ['TIMELINE','PRODUCT'], \n",
    "                                 columns = ['IS_NEW_CUSTOMER'], \n",
    "                                 values = ['GROSS_SALES', 'NUM_CUSTOMERS'],\n",
    "                                 aggfunc = 'sum')"
   ]
  },
  {
   "cell_type": "code",
   "execution_count": null,
   "metadata": {},
   "outputs": [],
   "source": [
    "dashers_pivot = pd.merge(dashers_new_pivot, dashers_old_pivot, how = 'left', on = ['TIMELINE', 'PRODUCT'])\n",
    "dashers_pivot"
   ]
  },
  {
   "cell_type": "code",
   "execution_count": null,
   "metadata": {},
   "outputs": [],
   "source": [
    "dashers_pivot.to_clipboard()"
   ]
  },
  {
   "cell_type": "code",
   "execution_count": null,
   "metadata": {},
   "outputs": [],
   "source": []
  },
  {
   "cell_type": "code",
   "execution_count": null,
   "metadata": {},
   "outputs": [],
   "source": []
  },
  {
   "cell_type": "markdown",
   "metadata": {},
   "source": [
    "### All customers broken down by product, timeline and New/Existing status + MOSAIC"
   ]
  },
  {
   "cell_type": "code",
   "execution_count": null,
   "metadata": {},
   "outputs": [],
   "source": [
    "dashers_mosaic_query = \"\"\"\n",
    "select * from\n",
    "(\n",
    "select \n",
    "case \n",
    "when a.happened_at_local_date between '2020-01-01' and '2020-04-27' then 'Jan1-Apr27-2020' \n",
    "when a.happened_at_local_date between '2020-04-28' and '2020-05-16' then 'Apr28-May16-2020' \n",
    "when a.happened_at_local_date between '2019-09-18' and '2019-10-07' then 'Sep18-Oct07-2019'\n",
    "when a.happened_at_local_date between '2019-06-14' and '2019-07-03' then 'Jun14-Jul03-2019'\n",
    "end as timeline,\n",
    "a.taxonomy_style,\n",
    "a.is_new_customer,\n",
    "left(c.mosaichousehold, 1) as mosaic_group,\n",
    "count(distinct a.customer_id) as num_customers\n",
    "from\n",
    "fact_sales as a\n",
    "left join\n",
    "dim_customer as b\n",
    "on a.customer_id = b.id\n",
    "left join\n",
    "experian_data as c\n",
    "on b.email = c.email\n",
    "where \n",
    "a.taxonomy_category = 'Shoes'\n",
    "and\n",
    "((a.happened_at_local_date between '2020-01-01' and '2020-05-16')\n",
    "or (a.happened_at_local_date between '2019-09-18' and '2019-10-07')\n",
    "or (a.happened_at_local_date between '2019-06-14' and '2019-07-03'))\n",
    "and a.sales_channel = 'eCommerce'\n",
    "and a.profit_center_country = 'United States'\n",
    "group by 1,2,3,4\n",
    "order by 1,2,3,4\n",
    ")\n",
    "where not (taxonomy_style = 'Dasher' and timeline = 'Jan1-Apr27-2020')\n",
    "\"\"\""
   ]
  },
  {
   "cell_type": "code",
   "execution_count": null,
   "metadata": {},
   "outputs": [],
   "source": [
    "dashers_mosaic = pd.DataFrame(cs.execute(dashers_mosaic_query).fetchall(),\n",
    "                           columns = ([col[0] for col in cs.description]))"
   ]
  },
  {
   "cell_type": "code",
   "execution_count": null,
   "metadata": {},
   "outputs": [],
   "source": [
    "dashers_mosaic['NUM_CUSTOMERS'] = pd.to_numeric(dashers_mosaic['NUM_CUSTOMERS'])"
   ]
  },
  {
   "cell_type": "code",
   "execution_count": null,
   "metadata": {},
   "outputs": [],
   "source": [
    "dashers_mosaic['PRODUCT'] = np.where((dashers_mosaic['TIMELINE'] == 'Jun14-Jul03-2019')&(dashers_mosaic['TAXONOMY_STYLE'] == 'Tree Breezer'), 'Breezer',\n",
    "                                          np.where((dashers_mosaic['TIMELINE'] == 'Sep18-Oct07-2019')&(dashers_mosaic['TAXONOMY_STYLE'].isin(['Wool Runner Mizzle', 'Wool Runner-up Mizzle'])), 'Mizzle',\n",
    "                                                  np.where(dashers_mosaic['TIMELINE'] == 'Jan1-Apr27-2020', 'All', \n",
    "                                                          np.where((dashers_mosaic['TIMELINE'] == 'Apr28-May16-2020')&(dashers_mosaic['TAXONOMY_STYLE'] == 'Tree Dasher'), 'Dasher',\n",
    "                                                                  np.where((dashers_mosaic['TIMELINE'] == 'Apr28-May16-2020')&(dashers_mosaic['TAXONOMY_STYLE'] != 'Tree Dasher'), 'Non-Dasher', 'Rest')))))"
   ]
  },
  {
   "cell_type": "code",
   "execution_count": null,
   "metadata": {},
   "outputs": [],
   "source": [
    "dashers_mosaic = dashers_mosaic[~dashers_mosaic['PRODUCT'].isin(['Rest'])]"
   ]
  },
  {
   "cell_type": "code",
   "execution_count": null,
   "metadata": {},
   "outputs": [],
   "source": [
    "mosaic_dictionary = pd.read_excel(\"experian_dictionary.xlsx\", sheet_name = 'mosaichh_higher')"
   ]
  },
  {
   "cell_type": "code",
   "execution_count": null,
   "metadata": {},
   "outputs": [],
   "source": [
    "dashers_mosaic = pd.merge(dashers_mosaic, mosaic_dictionary, how = 'left', on = 'MOSAIC_GROUP')"
   ]
  },
  {
   "cell_type": "code",
   "execution_count": null,
   "metadata": {},
   "outputs": [],
   "source": [
    "dashers_mosaic_small = dashers_mosaic[dashers_mosaic['MOSAIC_GROUP'].isin(['A', 'C', 'O','G', 'B'])]"
   ]
  },
  {
   "cell_type": "code",
   "execution_count": null,
   "metadata": {},
   "outputs": [],
   "source": [
    "dashers_mosaic_new_pivot = dashers_mosaic_small[dashers_mosaic_small['IS_NEW_CUSTOMER'] == True].pivot_table(index = ['TIMELINE','PRODUCT'], \n",
    "                                 columns = ['IS_NEW_CUSTOMER','MOSAIC'], \n",
    "                                 values =  'NUM_CUSTOMERS',\n",
    "                                 aggfunc = 'sum')"
   ]
  },
  {
   "cell_type": "code",
   "execution_count": null,
   "metadata": {},
   "outputs": [],
   "source": [
    "dashers_mosaic_old_pivot = dashers_mosaic_small[dashers_mosaic_small['IS_NEW_CUSTOMER'] == False].pivot_table(index = ['TIMELINE','PRODUCT'], \n",
    "                                 columns = ['IS_NEW_CUSTOMER','MOSAIC'], \n",
    "                                 values =  'NUM_CUSTOMERS',\n",
    "                                 aggfunc = 'sum')"
   ]
  },
  {
   "cell_type": "code",
   "execution_count": null,
   "metadata": {},
   "outputs": [],
   "source": [
    "dashers_mosaic_pivot = pd.merge(dashers_mosaic_new_pivot, dashers_mosaic_old_pivot, how = 'inner', on = ['TIMELINE', 'PRODUCT'])\n",
    "dashers_mosaic_pivot\n",
    "dashers_mosaic_pivot.to_clipboard()"
   ]
  },
  {
   "cell_type": "code",
   "execution_count": null,
   "metadata": {},
   "outputs": [],
   "source": []
  },
  {
   "cell_type": "markdown",
   "metadata": {},
   "source": [
    "### All customers broken down by product, timeline and New/Existing status + GENDER"
   ]
  },
  {
   "cell_type": "code",
   "execution_count": null,
   "metadata": {},
   "outputs": [],
   "source": [
    "dashers_gender_query = \"\"\"\n",
    "select * from\n",
    "(\n",
    "select \n",
    "case \n",
    "when a.happened_at_local_date between '2020-01-01' and '2020-04-27' then 'Jan1-Apr27-2020' \n",
    "when a.happened_at_local_date between '2020-04-28' and '2020-05-16' then 'Apr28-May16-2020' \n",
    "when a.happened_at_local_date between '2019-09-18' and '2019-10-07' then 'Sep18-Oct07-2019'\n",
    "when a.happened_at_local_date between '2019-06-14' and '2019-07-03' then 'Jun14-Jul03-2019'\n",
    "end as timeline,\n",
    "a.taxonomy_style,\n",
    "a.is_new_customer,\n",
    "left(c.I1GENDERCODE, 1) as customer_gender,\n",
    "count(distinct a.customer_id) as num_customers\n",
    "from\n",
    "fact_sales as a\n",
    "left join\n",
    "dim_customer as b\n",
    "on a.customer_id = b.id\n",
    "left join\n",
    "experian_data as c\n",
    "on b.email = c.email\n",
    "where \n",
    "a.taxonomy_category = 'Shoes'\n",
    "and\n",
    "((a.happened_at_local_date between '2020-01-01' and '2020-05-16')\n",
    "or (a.happened_at_local_date between '2019-09-18' and '2019-10-07')\n",
    "or (a.happened_at_local_date between '2019-06-14' and '2019-07-03'))\n",
    "and a.sales_channel = 'eCommerce'\n",
    "and a.profit_center_country = 'United States'\n",
    "group by 1,2,3,4\n",
    "order by 1,2,3,4\n",
    ")\n",
    "where not (taxonomy_style = 'Dasher' and timeline = 'Jan1-Apr27-2020')\n",
    "\"\"\""
   ]
  },
  {
   "cell_type": "code",
   "execution_count": null,
   "metadata": {},
   "outputs": [],
   "source": [
    "dashers_gender = pd.DataFrame(cs.execute(dashers_gender_query).fetchall(),\n",
    "                           columns = ([col[0] for col in cs.description]))"
   ]
  },
  {
   "cell_type": "code",
   "execution_count": null,
   "metadata": {},
   "outputs": [],
   "source": [
    "dashers_gender['NUM_CUSTOMERS'] = pd.to_numeric(dashers_gender['NUM_CUSTOMERS'])"
   ]
  },
  {
   "cell_type": "code",
   "execution_count": null,
   "metadata": {},
   "outputs": [],
   "source": [
    "dashers_gender['PRODUCT'] = np.where((dashers_gender['TIMELINE'] == 'Jun14-Jul03-2019')&(dashers_gender['TAXONOMY_STYLE'] == 'Tree Breezer'), 'Breezer',\n",
    "                                          np.where((dashers_gender['TIMELINE'] == 'Sep18-Oct07-2019')&(dashers_gender['TAXONOMY_STYLE'].isin(['Wool Runner Mizzle', 'Wool Runner-up Mizzle'])), 'Mizzle',\n",
    "                                                  np.where(dashers_gender['TIMELINE'] == 'Jan1-Apr27-2020', 'All', \n",
    "                                                          np.where((dashers_gender['TIMELINE'] == 'Apr28-May16-2020')&(dashers_gender['TAXONOMY_STYLE'] == 'Tree Dasher'), 'Dasher',\n",
    "                                                                  np.where((dashers_gender['TIMELINE'] == 'Apr28-May16-2020')&(dashers_gender['TAXONOMY_STYLE'] != 'Tree Dasher'), 'Non-Dasher', 'Rest')))))"
   ]
  },
  {
   "cell_type": "code",
   "execution_count": null,
   "metadata": {},
   "outputs": [],
   "source": [
    "dashers_gender = dashers_gender[~dashers_gender['PRODUCT'].isin(['Rest'])]"
   ]
  },
  {
   "cell_type": "code",
   "execution_count": null,
   "metadata": {},
   "outputs": [],
   "source": [
    "dashers_gender.groupby('CUSTOMER_GENDER')['NUM_CUSTOMERS'].sum()"
   ]
  },
  {
   "cell_type": "code",
   "execution_count": null,
   "metadata": {},
   "outputs": [],
   "source": [
    "dashers_gender_small = dashers_gender[dashers_gender['CUSTOMER_GENDER'].isin(['F','M'])]"
   ]
  },
  {
   "cell_type": "code",
   "execution_count": null,
   "metadata": {},
   "outputs": [],
   "source": [
    "dashers_gender_new_pivot = dashers_gender_small[dashers_gender_small['IS_NEW_CUSTOMER'] == True].pivot_table(index = ['TIMELINE','PRODUCT'], \n",
    "                                 columns = ['IS_NEW_CUSTOMER','CUSTOMER_GENDER'], \n",
    "                                 values =  'NUM_CUSTOMERS',\n",
    "                                 aggfunc = 'sum')"
   ]
  },
  {
   "cell_type": "code",
   "execution_count": null,
   "metadata": {},
   "outputs": [],
   "source": [
    "dashers_gender_old_pivot = dashers_gender_small[dashers_gender_small['IS_NEW_CUSTOMER'] == False].pivot_table(index = ['TIMELINE','PRODUCT'], \n",
    "                                 columns = ['IS_NEW_CUSTOMER','CUSTOMER_GENDER'], \n",
    "                                 values =  'NUM_CUSTOMERS',\n",
    "                                 aggfunc = 'sum')"
   ]
  },
  {
   "cell_type": "code",
   "execution_count": null,
   "metadata": {},
   "outputs": [],
   "source": [
    "dashers_gender_pivot = pd.merge(dashers_gender_new_pivot, dashers_gender_old_pivot, how = 'inner', on = ['TIMELINE', 'PRODUCT'])\n",
    "dashers_gender_pivot\n",
    "dashers_gender_pivot.to_clipboard()"
   ]
  },
  {
   "cell_type": "code",
   "execution_count": null,
   "metadata": {},
   "outputs": [],
   "source": []
  },
  {
   "cell_type": "markdown",
   "metadata": {},
   "source": [
    "### All customers broken down by product, timeline and New/Existing status + AGE"
   ]
  },
  {
   "cell_type": "code",
   "execution_count": null,
   "metadata": {},
   "outputs": [],
   "source": [
    "dashers_age_query = \"\"\"\n",
    "select * from\n",
    "(\n",
    "select \n",
    "case \n",
    "when a.happened_at_local_date between '2020-01-01' and '2020-04-27' then 'Jan1-Apr27-2020' \n",
    "when a.happened_at_local_date between '2020-04-28' and '2020-05-16' then 'Apr28-May16-2020' \n",
    "when a.happened_at_local_date between '2019-09-18' and '2019-10-07' then 'Sep18-Oct07-2019'\n",
    "when a.happened_at_local_date between '2019-06-14' and '2019-07-03' then 'Jun14-Jul03-2019'\n",
    "end as timeline,\n",
    "a.taxonomy_style,\n",
    "a.is_new_customer,\n",
    "case\n",
    "when try_cast(right(c.i1combinedage, 2) as integer) <= 25 then 'a.18-25'\n",
    "when try_cast(right(c.i1combinedage, 2) as integer) <= 35 then 'b.26-35'\n",
    "when try_cast(right(c.i1combinedage, 2) as integer) <= 45 then 'c.36-45'\n",
    "when try_cast(right(c.i1combinedage, 2) as integer) <= 55 then 'd.46-55'\n",
    "when try_cast(right(c.i1combinedage, 2) as integer) <= 65 then 'e.56-65'\n",
    "when try_cast(right(c.i1combinedage, 2) as integer) > 65 then 'f.65+'\n",
    "end\n",
    "as age_group,\n",
    "count(distinct a.customer_id) as num_customers\n",
    "from\n",
    "fact_sales as a\n",
    "left join\n",
    "dim_customer as b\n",
    "on a.customer_id = b.id\n",
    "left join\n",
    "experian_data as c\n",
    "on b.email = c.email\n",
    "where \n",
    "a.taxonomy_category = 'Shoes'\n",
    "and\n",
    "((a.happened_at_local_date between '2020-01-01' and '2020-05-16')\n",
    "or (a.happened_at_local_date between '2019-09-18' and '2019-10-07')\n",
    "or (a.happened_at_local_date between '2019-06-14' and '2019-07-03'))\n",
    "and a.sales_channel = 'eCommerce'\n",
    "and a.profit_center_country = 'United States'\n",
    "group by 1,2,3,4\n",
    "order by 1,2,3,4\n",
    ")\n",
    "where not (taxonomy_style = 'Dasher' and timeline = 'Jan1-Apr27-2020')\n",
    "\"\"\""
   ]
  },
  {
   "cell_type": "code",
   "execution_count": null,
   "metadata": {},
   "outputs": [],
   "source": [
    "dashers_age = pd.DataFrame(cs.execute(dashers_age_query).fetchall(),\n",
    "                           columns = ([col[0] for col in cs.description]))"
   ]
  },
  {
   "cell_type": "code",
   "execution_count": null,
   "metadata": {},
   "outputs": [],
   "source": [
    "dashers_age['NUM_CUSTOMERS'] = pd.to_numeric(dashers_age['NUM_CUSTOMERS'])"
   ]
  },
  {
   "cell_type": "code",
   "execution_count": null,
   "metadata": {},
   "outputs": [],
   "source": [
    "dashers_age['PRODUCT'] = np.where((dashers_age['TIMELINE'] == 'Jun14-Jul03-2019')&(dashers_age['TAXONOMY_STYLE'] == 'Tree Breezer'), 'Breezer',\n",
    "                                          np.where((dashers_age['TIMELINE'] == 'Sep18-Oct07-2019')&(dashers_age['TAXONOMY_STYLE'].isin(['Wool Runner Mizzle', 'Wool Runner-up Mizzle'])), 'Mizzle',\n",
    "                                                  np.where(dashers_age['TIMELINE'] == 'Jan1-Apr27-2020', 'All', \n",
    "                                                          np.where((dashers_age['TIMELINE'] == 'Apr28-May16-2020')&(dashers_age['TAXONOMY_STYLE'] == 'Tree Dasher'), 'Dasher',\n",
    "                                                                  np.where((dashers_age['TIMELINE'] == 'Apr28-May16-2020')&(dashers_age['TAXONOMY_STYLE'] != 'Tree Dasher'), 'Non-Dasher', 'Rest')))))"
   ]
  },
  {
   "cell_type": "code",
   "execution_count": null,
   "metadata": {},
   "outputs": [],
   "source": [
    "dashers_age = dashers_age[~dashers_age['PRODUCT'].isin(['Rest'])]"
   ]
  },
  {
   "cell_type": "code",
   "execution_count": null,
   "metadata": {},
   "outputs": [],
   "source": [
    "dashers_age_small = dashers_age[dashers_age['AGE_GROUP'].isin(['a.18-25', 'b.26-35', 'c.36-45', 'd.46-55', 'e.56-65', 'f.65+'])]"
   ]
  },
  {
   "cell_type": "code",
   "execution_count": null,
   "metadata": {},
   "outputs": [],
   "source": [
    "dashers_age_new_pivot = dashers_age_small[dashers_age_small['IS_NEW_CUSTOMER'] == True].pivot_table(index = ['TIMELINE','PRODUCT'], \n",
    "                                 columns = ['IS_NEW_CUSTOMER','AGE_GROUP'], \n",
    "                                 values =  'NUM_CUSTOMERS',\n",
    "                                 aggfunc = 'sum')"
   ]
  },
  {
   "cell_type": "code",
   "execution_count": null,
   "metadata": {},
   "outputs": [],
   "source": [
    "dashers_age_old_pivot = dashers_age_small[dashers_age_small['IS_NEW_CUSTOMER'] == False].pivot_table(index = ['TIMELINE','PRODUCT'], \n",
    "                                 columns = ['IS_NEW_CUSTOMER','AGE_GROUP'], \n",
    "                                 values =  'NUM_CUSTOMERS',\n",
    "                                 aggfunc = 'sum')"
   ]
  },
  {
   "cell_type": "code",
   "execution_count": null,
   "metadata": {},
   "outputs": [],
   "source": [
    "dashers_age_pivot = pd.merge(dashers_age_new_pivot, dashers_age_old_pivot, how = 'inner', on = ['TIMELINE', 'PRODUCT'])\n",
    "dashers_age_pivot\n",
    "dashers_age_pivot.to_clipboard()"
   ]
  },
  {
   "cell_type": "code",
   "execution_count": null,
   "metadata": {},
   "outputs": [],
   "source": []
  },
  {
   "cell_type": "markdown",
   "metadata": {},
   "source": [
    "### All customers broken down by product, timeline and New/Existing status + INCOME"
   ]
  },
  {
   "cell_type": "code",
   "execution_count": null,
   "metadata": {},
   "outputs": [],
   "source": [
    "dashers_income_query = \"\"\"\n",
    "select * from\n",
    "(\n",
    "select \n",
    "case \n",
    "when a.happened_at_local_date between '2020-01-01' and '2020-04-27' then 'Jan1-Apr27-2020' \n",
    "when a.happened_at_local_date between '2020-04-28' and '2020-05-16' then 'Apr28-May16-2020' \n",
    "when a.happened_at_local_date between '2019-09-18' and '2019-10-07' then 'Sep18-Oct07-2019'\n",
    "when a.happened_at_local_date between '2019-06-14' and '2019-07-03' then 'Jun14-Jul03-2019'\n",
    "end as timeline,\n",
    "a.taxonomy_style,\n",
    "a.is_new_customer,\n",
    "c.ESTIMATEDINCOMERANGEV6 as income_group,\n",
    "count(distinct a.customer_id) as num_customers\n",
    "from\n",
    "fact_sales as a\n",
    "left join\n",
    "dim_customer as b\n",
    "on a.customer_id = b.id\n",
    "left join\n",
    "experian_data as c\n",
    "on b.email = c.email\n",
    "where \n",
    "a.taxonomy_category = 'Shoes'\n",
    "and\n",
    "((a.happened_at_local_date between '2020-01-01' and '2020-05-16')\n",
    "or (a.happened_at_local_date between '2019-09-18' and '2019-10-07')\n",
    "or (a.happened_at_local_date between '2019-06-14' and '2019-07-03'))\n",
    "and a.sales_channel = 'eCommerce'\n",
    "and a.profit_center_country = 'United States'\n",
    "group by 1,2,3,4\n",
    "order by 1,2,3,4\n",
    ")\n",
    "where not (taxonomy_style = 'Dasher' and timeline = 'Jan1-Apr27-2020')\n",
    "\"\"\""
   ]
  },
  {
   "cell_type": "code",
   "execution_count": null,
   "metadata": {},
   "outputs": [],
   "source": [
    "dashers_income = pd.DataFrame(cs.execute(dashers_income_query).fetchall(),\n",
    "                           columns = ([col[0] for col in cs.description]))"
   ]
  },
  {
   "cell_type": "code",
   "execution_count": null,
   "metadata": {},
   "outputs": [],
   "source": [
    "dashers_income['NUM_CUSTOMERS'] = pd.to_numeric(dashers_income['NUM_CUSTOMERS'])"
   ]
  },
  {
   "cell_type": "code",
   "execution_count": null,
   "metadata": {},
   "outputs": [],
   "source": [
    "dashers_income['PRODUCT'] = np.where((dashers_income['TIMELINE'] == 'Jun14-Jul03-2019')&(dashers_income['TAXONOMY_STYLE'] == 'Tree Breezer'), 'Breezer',\n",
    "                                          np.where((dashers_income['TIMELINE'] == 'Sep18-Oct07-2019')&(dashers_income['TAXONOMY_STYLE'].isin(['Wool Runner Mizzle', 'Wool Runner-up Mizzle'])), 'Mizzle',\n",
    "                                                  np.where(dashers_income['TIMELINE'] == 'Jan1-Apr27-2020', 'All', \n",
    "                                                          np.where((dashers_income['TIMELINE'] == 'Apr28-May16-2020')&(dashers_income['TAXONOMY_STYLE'] == 'Tree Dasher'), 'Dasher',\n",
    "                                                                  np.where((dashers_income['TIMELINE'] == 'Apr28-May16-2020')&(dashers_income['TAXONOMY_STYLE'] != 'Tree Dasher'), 'Non-Dasher', 'Rest')))))"
   ]
  },
  {
   "cell_type": "code",
   "execution_count": null,
   "metadata": {},
   "outputs": [],
   "source": [
    "dashers_income = dashers_income[~dashers_income['PRODUCT'].isin(['Rest'])]"
   ]
  },
  {
   "cell_type": "code",
   "execution_count": null,
   "metadata": {},
   "outputs": [],
   "source": [
    "income_group = pd.read_excel(\"experian_dictionary.xlsx\", sheet_name=\"income\")"
   ]
  },
  {
   "cell_type": "code",
   "execution_count": null,
   "metadata": {},
   "outputs": [],
   "source": [
    "dashers_income = pd.merge(dashers_income, income_group, how = 'left', on = 'INCOME_GROUP')"
   ]
  },
  {
   "cell_type": "code",
   "execution_count": null,
   "metadata": {},
   "outputs": [],
   "source": [
    "dashers_income.groupby(['INCOME_GROUP', 'INCOME'])['NUM_CUSTOMERS'].sum()"
   ]
  },
  {
   "cell_type": "code",
   "execution_count": null,
   "metadata": {},
   "outputs": [],
   "source": [
    "dashers_income['INCOME_GROUP_SMALL'] = np.where(dashers_income['INCOME_GROUP'].isin(['A','B','C','D']), 'A+<$50k',\n",
    "                                               dashers_income['INCOME_GROUP']+'+'+dashers_income['INCOME'])"
   ]
  },
  {
   "cell_type": "code",
   "execution_count": null,
   "metadata": {},
   "outputs": [],
   "source": [
    "dashers_income_small = dashers_income[dashers_income['INCOME_GROUP'].isin(['A', 'B', 'C', 'D', 'E', \n",
    "                                                                           'F', 'G', 'H', 'I', 'J', 'K', 'L'])]"
   ]
  },
  {
   "cell_type": "code",
   "execution_count": null,
   "metadata": {},
   "outputs": [],
   "source": [
    "dashers_income_new_pivot = dashers_income_small[dashers_income_small['IS_NEW_CUSTOMER'] == True].pivot_table(index = ['TIMELINE','PRODUCT'], \n",
    "                                 columns = ['IS_NEW_CUSTOMER','INCOME_GROUP_SMALL'], \n",
    "                                 values =  'NUM_CUSTOMERS',\n",
    "                                 aggfunc = 'sum')"
   ]
  },
  {
   "cell_type": "code",
   "execution_count": null,
   "metadata": {},
   "outputs": [],
   "source": [
    "dashers_income_old_pivot = dashers_income_small[dashers_income_small['IS_NEW_CUSTOMER'] == False].pivot_table(index = ['TIMELINE','PRODUCT'], \n",
    "                                 columns = ['IS_NEW_CUSTOMER','INCOME_GROUP_SMALL'], \n",
    "                                 values =  'NUM_CUSTOMERS',\n",
    "                                 aggfunc = 'sum')"
   ]
  },
  {
   "cell_type": "code",
   "execution_count": null,
   "metadata": {},
   "outputs": [],
   "source": [
    "dashers_income_new_pivot"
   ]
  },
  {
   "cell_type": "code",
   "execution_count": null,
   "metadata": {},
   "outputs": [],
   "source": [
    "dashers_income_pivot = pd.merge(dashers_income_new_pivot, dashers_income_old_pivot, how = 'inner', on = ['TIMELINE', 'PRODUCT'])\n",
    "dashers_income_pivot\n",
    "dashers_income_pivot.to_clipboard()"
   ]
  },
  {
   "cell_type": "code",
   "execution_count": null,
   "metadata": {},
   "outputs": [],
   "source": []
  },
  {
   "cell_type": "markdown",
   "metadata": {},
   "source": [
    "### All customers broken down by product, timeline and New/Existing status + SHIPPING REGION"
   ]
  },
  {
   "cell_type": "code",
   "execution_count": null,
   "metadata": {},
   "outputs": [],
   "source": [
    "dashers_shipping_query = \"\"\"\n",
    "select * from\n",
    "(\n",
    "select \n",
    "case \n",
    "when a.happened_at_local_date between '2020-01-01' and '2020-04-27' then 'Jan1-Apr27-2020' \n",
    "when a.happened_at_local_date between '2020-04-28' and '2020-05-16' then 'Apr28-May16-2020' \n",
    "when a.happened_at_local_date between '2019-09-18' and '2019-10-07' then 'Sep18-Oct07-2019'\n",
    "when a.happened_at_local_date between '2019-06-14' and '2019-07-03' then 'Jun14-Jul03-2019'\n",
    "end as timeline,\n",
    "a.taxonomy_style,\n",
    "a.is_new_customer,\n",
    "a.shipping_reigion,\n",
    "count(distinct a.customer_id) as num_customers\n",
    "from\n",
    "fact_sales as a\n",
    "where \n",
    "a.taxonomy_category = 'Shoes'\n",
    "and\n",
    "((a.happened_at_local_date between '2020-01-01' and '2020-05-16')\n",
    "or (a.happened_at_local_date between '2019-09-18' and '2019-10-07')\n",
    "or (a.happened_at_local_date between '2019-06-14' and '2019-07-03'))\n",
    "and a.sales_channel = 'eCommerce'\n",
    "and a.profit_center_country = 'United States'\n",
    "group by 1,2,3,4\n",
    "order by 1,2,3,4\n",
    ")\n",
    "where not (taxonomy_style = 'Dasher' and timeline = 'Jan1-Apr27-2020')\n",
    "\"\"\""
   ]
  },
  {
   "cell_type": "code",
   "execution_count": null,
   "metadata": {},
   "outputs": [],
   "source": [
    "dashers_shipping = pd.DataFrame(cs.execute(dashers_shipping_query).fetchall(),\n",
    "                           columns = ([col[0] for col in cs.description]))"
   ]
  },
  {
   "cell_type": "code",
   "execution_count": null,
   "metadata": {},
   "outputs": [],
   "source": [
    "dashers_shipping['NUM_CUSTOMERS'] = pd.to_numeric(dashers_shipping['NUM_CUSTOMERS'])"
   ]
  },
  {
   "cell_type": "code",
   "execution_count": null,
   "metadata": {},
   "outputs": [],
   "source": [
    "dashers_shipping['PRODUCT'] = np.where((dashers_shipping['TIMELINE'] == 'Jun14-Jul03-2019')&(dashers_shipping['TAXONOMY_STYLE'] == 'Tree Breezer'), 'Breezer',\n",
    "                                          np.where((dashers_shipping['TIMELINE'] == 'Sep18-Oct07-2019')&(dashers_shipping['TAXONOMY_STYLE'].isin(['Wool Runner Mizzle', 'Wool Runner-up Mizzle'])), 'Mizzle',\n",
    "                                                  np.where(dashers_shipping['TIMELINE'] == 'Jan1-Apr27-2020', 'All', \n",
    "                                                          np.where((dashers_shipping['TIMELINE'] == 'Apr28-May16-2020')&(dashers_shipping['TAXONOMY_STYLE'] == 'Tree Dasher'), 'Dasher',\n",
    "                                                                  np.where((dashers_shipping['TIMELINE'] == 'Apr28-May16-2020')&(dashers_shipping['TAXONOMY_STYLE'] != 'Tree Dasher'), 'Non-Dasher', 'Rest')))))"
   ]
  },
  {
   "cell_type": "code",
   "execution_count": null,
   "metadata": {},
   "outputs": [],
   "source": [
    "dashers_shipping = dashers_shipping[~dashers_shipping['PRODUCT'].isin(['Rest'])]"
   ]
  },
  {
   "cell_type": "code",
   "execution_count": null,
   "metadata": {},
   "outputs": [],
   "source": [
    "dashers_shipping.groupby('SHIPPING_REIGION')['NUM_CUSTOMERS'].sum().sort_values(ascending = False).index"
   ]
  },
  {
   "cell_type": "code",
   "execution_count": null,
   "metadata": {},
   "outputs": [],
   "source": [
    "dashers_shipping_small = dashers_shipping[dashers_shipping['SHIPPING_REIGION'].isin(['California', 'New York', \n",
    "                                                                                     'Texas', 'Massachusetts',\n",
    "                                                                                     'Illinois','Florida', 'Pennsylvania', \n",
    "                                                                                     'New Jersey', 'Virginia', 'Washington'])]"
   ]
  },
  {
   "cell_type": "code",
   "execution_count": null,
   "metadata": {},
   "outputs": [],
   "source": [
    "dashers_shipping_new_pivot = dashers_shipping_small[dashers_shipping_small['IS_NEW_CUSTOMER'] == True].pivot_table(index = ['TIMELINE','PRODUCT'], \n",
    "                                 columns = ['IS_NEW_CUSTOMER','SHIPPING_REIGION'], \n",
    "                                 values =  'NUM_CUSTOMERS',\n",
    "                                 aggfunc = 'sum').sort_values(by = ('Jan1-Apr27-2020', 'All'), axis = 1, ascending = False)"
   ]
  },
  {
   "cell_type": "code",
   "execution_count": null,
   "metadata": {},
   "outputs": [],
   "source": [
    "dashers_shipping_old_pivot = dashers_shipping_small[dashers_shipping_small['IS_NEW_CUSTOMER'] == False].pivot_table(index = ['TIMELINE','PRODUCT'], \n",
    "                                 columns = ['IS_NEW_CUSTOMER','SHIPPING_REIGION'], \n",
    "                                 values =  'NUM_CUSTOMERS',\n",
    "                                 aggfunc = 'sum').sort_values(by = ('Jan1-Apr27-2020', 'All'), axis = 1, ascending = False)"
   ]
  },
  {
   "cell_type": "code",
   "execution_count": null,
   "metadata": {},
   "outputs": [],
   "source": [
    "dashers_shipping_pivot = pd.merge(dashers_shipping_new_pivot, dashers_shipping_old_pivot, how = 'inner', on = ['TIMELINE', 'PRODUCT'])\n",
    "dashers_shipping_pivot\n",
    "dashers_shipping_pivot.to_clipboard()"
   ]
  },
  {
   "cell_type": "code",
   "execution_count": null,
   "metadata": {},
   "outputs": [],
   "source": []
  },
  {
   "cell_type": "markdown",
   "metadata": {},
   "source": [
    "### All customers broken down by Breezer and Dasher post launch + WARDROBING SIZES"
   ]
  },
  {
   "cell_type": "code",
   "execution_count": null,
   "metadata": {},
   "outputs": [],
   "source": [
    "dashers_sizewardrobing_query = \"\"\"\n",
    "select product_timeline, num_sizes, count(distinct order_name) as num_orders \n",
    "from\n",
    "(\n",
    "select \n",
    "case \n",
    "when (a.happened_at_local_date between '2020-04-28' and '2020-05-16') and (a.taxonomy_style = 'Tree Dasher') then 'Dasher - Apr28-May16-2020' \n",
    "when (a.happened_at_local_date between '2019-06-14' and '2019-07-03') and (a.taxonomy_style = 'Tree Breezer') then 'Breezer - Jun14-Jul03-2019'\n",
    "end as product_timeline,\n",
    "order_name,\n",
    "count(distinct size_us) as num_sizes\n",
    "from\n",
    "fact_sales as a\n",
    "where \n",
    "a.taxonomy_style in ('Tree Breezer', 'Tree Dasher')\n",
    "and\n",
    "((a.happened_at_local_date between '2020-04-28' and '2020-05-16')\n",
    "or (a.happened_at_local_date between '2019-06-14' and '2019-07-03'))\n",
    "and a.sales_channel = 'eCommerce'\n",
    "and a.profit_center_country = 'United States'\n",
    "group by 1,2\n",
    "order by 1,2\n",
    ")\n",
    "group by 1, 2\n",
    "order by 1, 2\n",
    "\"\"\""
   ]
  },
  {
   "cell_type": "code",
   "execution_count": null,
   "metadata": {},
   "outputs": [],
   "source": [
    "dashers_sizewardrobing = pd.DataFrame(cs.execute(dashers_sizewardrobing_query).fetchall(),\n",
    "                           columns = ([col[0] for col in cs.description]))"
   ]
  },
  {
   "cell_type": "code",
   "execution_count": null,
   "metadata": {},
   "outputs": [],
   "source": [
    "dashers_sizes_pivot = dashers_sizewardrobing.pivot_table(index = 'NUM_SIZES', columns = 'PRODUCT_TIMELINE',\n",
    "                                  values = 'NUM_ORDERS', aggfunc = 'sum')\n",
    "dashers_sizes_pivot\n",
    "dashers_sizes_pivot.to_clipboard()"
   ]
  },
  {
   "cell_type": "code",
   "execution_count": null,
   "metadata": {},
   "outputs": [],
   "source": []
  },
  {
   "cell_type": "markdown",
   "metadata": {},
   "source": [
    "### All customers broken down by Breezer and Dasher post launch + WARDROBING COLORS"
   ]
  },
  {
   "cell_type": "code",
   "execution_count": null,
   "metadata": {},
   "outputs": [],
   "source": [
    "dashers_colorwardrobing_query = \"\"\"\n",
    "select product_timeline, num_colors, count(distinct order_name) as num_orders \n",
    "from\n",
    "(\n",
    "select \n",
    "case \n",
    "when (a.happened_at_local_date between '2020-04-28' and '2020-05-16') and (a.taxonomy_style = 'Tree Dasher') then 'Dasher - Apr28-May16-2020' \n",
    "when (a.happened_at_local_date between '2019-06-14' and '2019-07-03') and (a.taxonomy_style = 'Tree Breezer') then 'Breezer - Jun14-Jul03-2019'\n",
    "end as product_timeline,\n",
    "order_name,\n",
    "count(distinct color_name) as num_colors\n",
    "from\n",
    "fact_sales as a\n",
    "where \n",
    "a.taxonomy_style in ('Tree Breezer', 'Tree Dasher')\n",
    "and\n",
    "((a.happened_at_local_date between '2020-04-28' and '2020-05-16')\n",
    "or (a.happened_at_local_date between '2019-06-14' and '2019-07-03'))\n",
    "and a.sales_channel = 'eCommerce'\n",
    "and a.profit_center_country = 'United States'\n",
    "group by 1,2\n",
    "order by 1,2\n",
    ")\n",
    "group by 1, 2\n",
    "order by 1, 2\n",
    "\"\"\""
   ]
  },
  {
   "cell_type": "code",
   "execution_count": null,
   "metadata": {},
   "outputs": [],
   "source": [
    "dashers_colorwardrobing = pd.DataFrame(cs.execute(dashers_colorwardrobing_query).fetchall(),\n",
    "                           columns = ([col[0] for col in cs.description]))"
   ]
  },
  {
   "cell_type": "code",
   "execution_count": null,
   "metadata": {},
   "outputs": [],
   "source": [
    "dashers_colors_pivot = dashers_colorwardrobing.pivot_table(index = 'NUM_COLORS', columns = 'PRODUCT_TIMELINE',\n",
    "                                  values = 'NUM_ORDERS', aggfunc = 'sum')\n",
    "dashers_colors_pivot\n",
    "dashers_colors_pivot.to_clipboard()"
   ]
  },
  {
   "cell_type": "code",
   "execution_count": null,
   "metadata": {},
   "outputs": [],
   "source": []
  },
  {
   "cell_type": "markdown",
   "metadata": {},
   "source": [
    "### All customers broken down by product, timeline and New/Existing status + Channel"
   ]
  },
  {
   "cell_type": "code",
   "execution_count": null,
   "metadata": {},
   "outputs": [],
   "source": [
    "dashers_channel_query = \"\"\"\n",
    "select * from\n",
    "(\n",
    "select \n",
    "case \n",
    "when a.happened_at_local_date between '2020-01-01' and '2020-04-27' then 'Jan1-Apr27-2020' \n",
    "when a.happened_at_local_date between '2020-04-28' and '2020-05-16' then 'Apr28-May16-2020' \n",
    "when a.happened_at_local_date between '2019-09-18' and '2019-10-07' then 'Sep18-Oct07-2019'\n",
    "when a.happened_at_local_date between '2019-06-14' and '2019-07-03' then 'Jun14-Jul03-2019'\n",
    "end as timeline,\n",
    "a.taxonomy_style,\n",
    "case when c.channel_grouping in ('Social', 'Paid Social') then 'Social' else channel_grouping end as channel,\n",
    "a.is_new_customer,\n",
    "count(distinct a.order_name) as num_orders\n",
    "from\n",
    "fact_sales as a\n",
    "left join\n",
    "fivetran.google_analytics_360.session_hit as b\n",
    "on a.order_name = b.transaction_transaction_id\n",
    "left join\n",
    "fivetran.google_analytics_360.ga_session as c\n",
    "on\n",
    "b.visit_id = c.visit_id\n",
    "and b.visitor_id = c.visitor_id\n",
    "and b.visit_start_time = c.visit_start_time\n",
    "where \n",
    "a.taxonomy_category = 'Shoes'\n",
    "and\n",
    "((a.happened_at_local_date between '2020-01-01' and '2020-05-16')\n",
    "or (a.happened_at_local_date between '2019-09-18' and '2019-10-07')\n",
    "or (a.happened_at_local_date between '2019-06-14' and '2019-07-03'))\n",
    "and a.sales_channel = 'eCommerce'\n",
    "and a.profit_center_country = 'United States'\n",
    "and a.event_type = 'order'\n",
    "group by 1,2,3,4\n",
    "order by 1,2,3,4\n",
    ")\n",
    "where not (taxonomy_style = 'Dasher' and timeline = 'Jan1-Apr27-2020')\n",
    "\"\"\""
   ]
  },
  {
   "cell_type": "code",
   "execution_count": null,
   "metadata": {},
   "outputs": [],
   "source": [
    "dashers_channel = pd.DataFrame(cs.execute(dashers_channel_query).fetchall(),\n",
    "                           columns = ([col[0] for col in cs.description]))"
   ]
  },
  {
   "cell_type": "code",
   "execution_count": null,
   "metadata": {},
   "outputs": [],
   "source": [
    "dashers_channel['NUM_ORDERS'] = pd.to_numeric(dashers_channel['NUM_ORDERS'])"
   ]
  },
  {
   "cell_type": "code",
   "execution_count": null,
   "metadata": {},
   "outputs": [],
   "source": [
    "dashers_channel['PRODUCT'] = np.where((dashers_channel['TIMELINE'] == 'Jun14-Jul03-2019')&(dashers_channel['TAXONOMY_STYLE'] == 'Tree Breezer'), 'Breezer',\n",
    "                                          np.where((dashers_channel['TIMELINE'] == 'Sep18-Oct07-2019')&(dashers_channel['TAXONOMY_STYLE'].isin(['Wool Runner Mizzle', 'Wool Runner-up Mizzle'])), 'Mizzle',\n",
    "                                                  np.where(dashers_channel['TIMELINE'] == 'Jan1-Apr27-2020', 'All', \n",
    "                                                          np.where((dashers_channel['TIMELINE'] == 'Apr28-May16-2020')&(dashers_channel['TAXONOMY_STYLE'] == 'Tree Dasher'), 'Dasher',\n",
    "                                                                  np.where((dashers_channel['TIMELINE'] == 'Apr28-May16-2020')&(dashers_channel['TAXONOMY_STYLE'] != 'Tree Dasher'), 'Non-Dasher', 'Rest')))))"
   ]
  },
  {
   "cell_type": "code",
   "execution_count": null,
   "metadata": {},
   "outputs": [],
   "source": [
    "dashers_channel = dashers_channel[~dashers_channel['PRODUCT'].isin(['Rest'])]"
   ]
  },
  {
   "cell_type": "code",
   "execution_count": null,
   "metadata": {},
   "outputs": [],
   "source": [
    "dashers_channel_new_pivot = dashers_channel[dashers_channel['IS_NEW_CUSTOMER'] == True].pivot_table(index = ['TIMELINE','PRODUCT'], \n",
    "                                 columns = ['IS_NEW_CUSTOMER','CHANNEL'], \n",
    "                                 values =  'NUM_ORDERS',\n",
    "                                 aggfunc = 'sum').sort_values(by = ('Jan1-Apr27-2020', 'All'), axis = 1, ascending = False)"
   ]
  },
  {
   "cell_type": "code",
   "execution_count": null,
   "metadata": {},
   "outputs": [],
   "source": [
    "dashers_channel_old_pivot = dashers_channel[dashers_channel['IS_NEW_CUSTOMER'] == False].pivot_table(index = ['TIMELINE','PRODUCT'], \n",
    "                                 columns = ['IS_NEW_CUSTOMER','CHANNEL'], \n",
    "                                 values =  'NUM_ORDERS',\n",
    "                                 aggfunc = 'sum').sort_values(by = ('Jan1-Apr27-2020', 'All'), axis = 1, ascending = False)"
   ]
  },
  {
   "cell_type": "code",
   "execution_count": null,
   "metadata": {},
   "outputs": [],
   "source": [
    "dashers_channel_pivot = pd.merge(dashers_channel_new_pivot, dashers_channel_old_pivot, how = 'inner', on = ['TIMELINE', 'PRODUCT'])\n",
    "dashers_channel_pivot\n",
    "dashers_channel_pivot.T.to_clipboard()"
   ]
  },
  {
   "cell_type": "code",
   "execution_count": null,
   "metadata": {},
   "outputs": [],
   "source": []
  },
  {
   "cell_type": "markdown",
   "metadata": {},
   "source": [
    "### All customers broken down by product, timeline and New/Existing status + Channel"
   ]
  },
  {
   "cell_type": "code",
   "execution_count": null,
   "metadata": {},
   "outputs": [],
   "source": [
    "dashers_social_query = \"\"\"\n",
    "select\n",
    "timeline,\n",
    "taxonomy_style,\n",
    "is_new_customer,\n",
    "case \n",
    "when traffic_source_source ilike '%facebook%' then 'facebook'\n",
    "when traffic_source_source ilike '%instagram%' then 'instagram'\n",
    "else 'others'\n",
    "end as social,\n",
    "count(distinct order_name) as num_orders\n",
    "from\n",
    "(\n",
    "select \n",
    "case \n",
    "when a.happened_at_local_date between '2020-01-01' and '2020-04-27' then 'Jan1-Apr27-2020' \n",
    "when a.happened_at_local_date between '2020-04-28' and '2020-05-16' then 'Apr28-May16-2020' \n",
    "when a.happened_at_local_date between '2019-09-18' and '2019-10-07' then 'Sep18-Oct07-2019'\n",
    "when a.happened_at_local_date between '2019-06-14' and '2019-07-03' then 'Jun14-Jul03-2019'\n",
    "end as timeline,\n",
    "a.taxonomy_style,\n",
    "case when c.channel_grouping in ('Social', 'Paid Social') then 'Social' else channel_grouping end as channel,\n",
    "c.traffic_source_source,\n",
    "a.is_new_customer,\n",
    "a.order_name\n",
    "from\n",
    "fact_sales as a\n",
    "left join\n",
    "fivetran.google_analytics_360.session_hit as b\n",
    "on a.order_name = b.transaction_transaction_id\n",
    "left join\n",
    "fivetran.google_analytics_360.ga_session as c\n",
    "on\n",
    "b.visit_id = c.visit_id\n",
    "and b.visitor_id = c.visitor_id\n",
    "and b.visit_start_time = c.visit_start_time\n",
    "where \n",
    "a.taxonomy_category = 'Shoes'\n",
    "and\n",
    "((a.happened_at_local_date between '2020-01-01' and '2020-05-16')\n",
    "or (a.happened_at_local_date between '2019-09-18' and '2019-10-07')\n",
    "or (a.happened_at_local_date between '2019-06-14' and '2019-07-03'))\n",
    "and a.sales_channel = 'eCommerce'\n",
    "and a.profit_center_country = 'United States'\n",
    "and a.event_type = 'order'\n",
    ")\n",
    "where not (taxonomy_style = 'Dasher' and timeline = 'Jan1-Apr27-2020')\n",
    "and channel in ('Social')\n",
    "group by 1, 2, 3, 4\n",
    "order by 1, 2, 3, 4\n",
    "\"\"\""
   ]
  },
  {
   "cell_type": "code",
   "execution_count": null,
   "metadata": {},
   "outputs": [],
   "source": [
    "dashers_social = pd.DataFrame(cs.execute(dashers_social_query).fetchall(),\n",
    "                           columns = ([col[0] for col in cs.description]))"
   ]
  },
  {
   "cell_type": "code",
   "execution_count": null,
   "metadata": {},
   "outputs": [],
   "source": [
    "dashers_social['NUM_ORDERS'] = pd.to_numeric(dashers_social['NUM_ORDERS'])"
   ]
  },
  {
   "cell_type": "code",
   "execution_count": null,
   "metadata": {},
   "outputs": [],
   "source": [
    "dashers_social['PRODUCT'] = np.where((dashers_social['TIMELINE'] == 'Jun14-Jul03-2019')&(dashers_social['TAXONOMY_STYLE'] == 'Tree Breezer'), 'Breezer',\n",
    "                                          np.where((dashers_social['TIMELINE'] == 'Sep18-Oct07-2019')&(dashers_social['TAXONOMY_STYLE'].isin(['Wool Runner Mizzle', 'Wool Runner-up Mizzle'])), 'Mizzle',\n",
    "                                                  np.where(dashers_social['TIMELINE'] == 'Jan1-Apr27-2020', 'All', \n",
    "                                                          np.where((dashers_social['TIMELINE'] == 'Apr28-May16-2020')&(dashers_social['TAXONOMY_STYLE'] == 'Tree Dasher'), 'Dasher',\n",
    "                                                                  np.where((dashers_social['TIMELINE'] == 'Apr28-May16-2020')&(dashers_social['TAXONOMY_STYLE'] != 'Tree Dasher'), 'Non-Dasher', 'Rest')))))"
   ]
  },
  {
   "cell_type": "code",
   "execution_count": null,
   "metadata": {},
   "outputs": [],
   "source": [
    "dashers_social = dashers_social[~dashers_social['PRODUCT'].isin(['Rest'])]"
   ]
  },
  {
   "cell_type": "code",
   "execution_count": null,
   "metadata": {},
   "outputs": [],
   "source": [
    "dashers_social_new_pivot = dashers_social[dashers_social['IS_NEW_CUSTOMER'] == True].pivot_table(index = ['TIMELINE','PRODUCT'], \n",
    "                                 columns = ['IS_NEW_CUSTOMER','SOCIAL'], \n",
    "                                 values =  'NUM_ORDERS',\n",
    "                                 aggfunc = 'sum')"
   ]
  },
  {
   "cell_type": "code",
   "execution_count": null,
   "metadata": {},
   "outputs": [],
   "source": [
    "dashers_social_old_pivot = dashers_social[dashers_social['IS_NEW_CUSTOMER'] == False].pivot_table(index = ['TIMELINE','PRODUCT'], \n",
    "                                 columns = ['IS_NEW_CUSTOMER','SOCIAL'], \n",
    "                                 values =  'NUM_ORDERS',\n",
    "                                 aggfunc = 'sum')"
   ]
  },
  {
   "cell_type": "code",
   "execution_count": null,
   "metadata": {},
   "outputs": [],
   "source": [
    "dashers_social_pivot = pd.merge(dashers_social_new_pivot, dashers_social_old_pivot, how = 'inner', on = ['TIMELINE', 'PRODUCT'])\n",
    "dashers_social_pivot\n",
    "dashers_social_pivot.T.to_clipboard()"
   ]
  },
  {
   "cell_type": "code",
   "execution_count": null,
   "metadata": {},
   "outputs": [],
   "source": []
  },
  {
   "cell_type": "markdown",
   "metadata": {},
   "source": [
    "### New customers broken down by product, timeline for customers from Social Channel + Facebook"
   ]
  },
  {
   "cell_type": "code",
   "execution_count": null,
   "metadata": {},
   "outputs": [],
   "source": [
    "dashers_facebook_query = \"\"\"\n",
    "select\n",
    "timeline,\n",
    "taxonomy_style,\n",
    "is_new_customer,\n",
    "age_group,\n",
    "count(distinct order_name) as num_orders\n",
    "from\n",
    "(\n",
    "select \n",
    "case \n",
    "when a.happened_at_local_date between '2020-01-01' and '2020-04-27' then 'Jan1-Apr27-2020' \n",
    "when a.happened_at_local_date between '2020-04-28' and '2020-05-16' then 'Apr28-May16-2020' \n",
    "when a.happened_at_local_date between '2019-09-18' and '2019-10-07' then 'Sep18-Oct07-2019'\n",
    "when a.happened_at_local_date between '2019-06-14' and '2019-07-03' then 'Jun14-Jul03-2019'\n",
    "end as timeline,\n",
    "a.taxonomy_style,\n",
    "c.traffic_source_source,\n",
    "a.is_new_customer,\n",
    "a.order_name,\n",
    "case\n",
    "when try_cast(right(e.i1combinedage, 2) as integer) <= 25 then 'a.18-25'\n",
    "when try_cast(right(e.i1combinedage, 2) as integer) <= 35 then 'b.26-35'\n",
    "when try_cast(right(e.i1combinedage, 2) as integer) <= 45 then 'c.36-45'\n",
    "when try_cast(right(e.i1combinedage, 2) as integer) <= 55 then 'd.46-55'\n",
    "when try_cast(right(e.i1combinedage, 2) as integer) <= 65 then 'e.56-65'\n",
    "when try_cast(right(e.i1combinedage, 2) as integer) > 65 then 'f.65+'\n",
    "end\n",
    "as age_group\n",
    "from\n",
    "fact_sales as a\n",
    "left join\n",
    "fivetran.google_analytics_360.session_hit as b\n",
    "on a.order_name = b.transaction_transaction_id\n",
    "left join\n",
    "fivetran.google_analytics_360.ga_session as c\n",
    "on\n",
    "b.visit_id = c.visit_id\n",
    "and b.visitor_id = c.visitor_id\n",
    "and b.visit_start_time = c.visit_start_time\n",
    "left join\n",
    "dim_customer as d\n",
    "on a.customer_id = d.id\n",
    "left join\n",
    "experian_data as e\n",
    "on d.email = e.email\n",
    "where \n",
    "a.taxonomy_category = 'Shoes'\n",
    "and\n",
    "((a.happened_at_local_date between '2020-01-01' and '2020-05-16')\n",
    "or (a.happened_at_local_date between '2019-09-18' and '2019-10-07')\n",
    "or (a.happened_at_local_date between '2019-06-14' and '2019-07-03'))\n",
    "and a.sales_channel = 'eCommerce'\n",
    "and a.profit_center_country = 'United States'\n",
    "and a.event_type = 'order'\n",
    ")\n",
    "where not (taxonomy_style = 'Dasher' and timeline = 'Jan1-Apr27-2020')\n",
    "and traffic_source_source ilike '%facebook%'\n",
    "group by 1, 2, 3, 4\n",
    "order by 1, 2, 3, 4\n",
    "\"\"\""
   ]
  },
  {
   "cell_type": "code",
   "execution_count": null,
   "metadata": {},
   "outputs": [],
   "source": [
    "dashers_facebook = pd.DataFrame(cs.execute(dashers_facebook_query).fetchall(),\n",
    "                           columns = ([col[0] for col in cs.description]))"
   ]
  },
  {
   "cell_type": "code",
   "execution_count": null,
   "metadata": {},
   "outputs": [],
   "source": [
    "dashers_facebook['NUM_ORDERS'] = pd.to_numeric(dashers_facebook['NUM_ORDERS'])"
   ]
  },
  {
   "cell_type": "code",
   "execution_count": null,
   "metadata": {},
   "outputs": [],
   "source": [
    "dashers_facebook['PRODUCT'] = np.where((dashers_facebook['TIMELINE'] == 'Jun14-Jul03-2019')&(dashers_facebook['TAXONOMY_STYLE'] == 'Tree Breezer'), 'Breezer',\n",
    "                                          np.where((dashers_facebook['TIMELINE'] == 'Sep18-Oct07-2019')&(dashers_facebook['TAXONOMY_STYLE'].isin(['Wool Runner Mizzle', 'Wool Runner-up Mizzle'])), 'Mizzle',\n",
    "                                                  np.where(dashers_facebook['TIMELINE'] == 'Jan1-Apr27-2020', 'All', \n",
    "                                                          np.where((dashers_facebook['TIMELINE'] == 'Apr28-May16-2020')&(dashers_facebook['TAXONOMY_STYLE'] == 'Tree Dasher'), 'Dasher',\n",
    "                                                                  np.where((dashers_facebook['TIMELINE'] == 'Apr28-May16-2020')&(dashers_facebook['TAXONOMY_STYLE'] != 'Tree Dasher'), 'Non-Dasher', 'Rest')))))"
   ]
  },
  {
   "cell_type": "code",
   "execution_count": null,
   "metadata": {},
   "outputs": [],
   "source": [
    "dashers_facebook = dashers_facebook[~dashers_facebook['PRODUCT'].isin(['Rest'])]"
   ]
  },
  {
   "cell_type": "code",
   "execution_count": null,
   "metadata": {},
   "outputs": [],
   "source": [
    "dashers_facebook_new_pivot = dashers_facebook[dashers_facebook['IS_NEW_CUSTOMER'] == True].pivot_table(index = ['TIMELINE','PRODUCT'], \n",
    "                                 columns = ['IS_NEW_CUSTOMER','AGE_GROUP'], \n",
    "                                 values =  'NUM_ORDERS',\n",
    "                                 aggfunc = 'sum')"
   ]
  },
  {
   "cell_type": "code",
   "execution_count": null,
   "metadata": {},
   "outputs": [],
   "source": [
    "dashers_facebook_old_pivot = dashers_facebook[dashers_facebook['IS_NEW_CUSTOMER'] == False].pivot_table(index = ['TIMELINE','PRODUCT'], \n",
    "                                 columns = ['IS_NEW_CUSTOMER','AGE_GROUP'], \n",
    "                                 values =  'NUM_ORDERS',\n",
    "                                 aggfunc = 'sum')"
   ]
  },
  {
   "cell_type": "code",
   "execution_count": null,
   "metadata": {},
   "outputs": [],
   "source": [
    "dashers_facebook_pivot = pd.merge(dashers_facebook_new_pivot, dashers_facebook_old_pivot, how = 'inner', on = ['TIMELINE', 'PRODUCT'])\n",
    "dashers_facebook_pivot\n",
    "dashers_facebook_pivot.T.to_clipboard()"
   ]
  },
  {
   "cell_type": "code",
   "execution_count": null,
   "metadata": {},
   "outputs": [],
   "source": []
  },
  {
   "cell_type": "markdown",
   "metadata": {},
   "source": [
    "### New customers broken down by product, timeline for customers from Social Channel + Instagram"
   ]
  },
  {
   "cell_type": "code",
   "execution_count": null,
   "metadata": {},
   "outputs": [],
   "source": [
    "dashers_instagram_query = \"\"\"\n",
    "select\n",
    "timeline,\n",
    "taxonomy_style,\n",
    "is_new_customer,\n",
    "age_group,\n",
    "count(distinct order_name) as num_orders\n",
    "from\n",
    "(\n",
    "select \n",
    "case \n",
    "when a.happened_at_local_date between '2020-01-01' and '2020-04-27' then 'Jan1-Apr27-2020' \n",
    "when a.happened_at_local_date between '2020-04-28' and '2020-05-16' then 'Apr28-May16-2020' \n",
    "when a.happened_at_local_date between '2019-09-18' and '2019-10-07' then 'Sep18-Oct07-2019'\n",
    "when a.happened_at_local_date between '2019-06-14' and '2019-07-03' then 'Jun14-Jul03-2019'\n",
    "end as timeline,\n",
    "a.taxonomy_style,\n",
    "c.traffic_source_source,\n",
    "a.is_new_customer,\n",
    "a.order_name,\n",
    "case\n",
    "when try_cast(right(e.i1combinedage, 2) as integer) <= 25 then 'a.18-25'\n",
    "when try_cast(right(e.i1combinedage, 2) as integer) <= 35 then 'b.26-35'\n",
    "when try_cast(right(e.i1combinedage, 2) as integer) <= 45 then 'c.36-45'\n",
    "when try_cast(right(e.i1combinedage, 2) as integer) <= 55 then 'd.46-55'\n",
    "when try_cast(right(e.i1combinedage, 2) as integer) <= 65 then 'e.56-65'\n",
    "when try_cast(right(e.i1combinedage, 2) as integer) > 65 then 'f.65+'\n",
    "end\n",
    "as age_group\n",
    "from\n",
    "fact_sales as a\n",
    "left join\n",
    "fivetran.google_analytics_360.session_hit as b\n",
    "on a.order_name = b.transaction_transaction_id\n",
    "left join\n",
    "fivetran.google_analytics_360.ga_session as c\n",
    "on\n",
    "b.visit_id = c.visit_id\n",
    "and b.visitor_id = c.visitor_id\n",
    "and b.visit_start_time = c.visit_start_time\n",
    "left join\n",
    "dim_customer as d\n",
    "on a.customer_id = d.id\n",
    "left join\n",
    "experian_data as e\n",
    "on d.email = e.email\n",
    "where \n",
    "a.taxonomy_category = 'Shoes'\n",
    "and\n",
    "((a.happened_at_local_date between '2020-01-01' and '2020-05-16')\n",
    "or (a.happened_at_local_date between '2019-09-18' and '2019-10-07')\n",
    "or (a.happened_at_local_date between '2019-06-14' and '2019-07-03'))\n",
    "and a.sales_channel = 'eCommerce'\n",
    "and a.profit_center_country = 'United States'\n",
    "and a.event_type = 'order'\n",
    ")\n",
    "where not (taxonomy_style = 'Dasher' and timeline = 'Jan1-Apr27-2020')\n",
    "and traffic_source_source ilike '%instagram%'\n",
    "group by 1, 2, 3, 4\n",
    "order by 1, 2, 3, 4\n",
    "\"\"\""
   ]
  },
  {
   "cell_type": "code",
   "execution_count": null,
   "metadata": {},
   "outputs": [],
   "source": [
    "dashers_instagram = pd.DataFrame(cs.execute(dashers_instagram_query).fetchall(),\n",
    "                           columns = ([col[0] for col in cs.description]))"
   ]
  },
  {
   "cell_type": "code",
   "execution_count": null,
   "metadata": {},
   "outputs": [],
   "source": [
    "dashers_instagram['NUM_ORDERS'] = pd.to_numeric(dashers_instagram['NUM_ORDERS'])"
   ]
  },
  {
   "cell_type": "code",
   "execution_count": null,
   "metadata": {},
   "outputs": [],
   "source": [
    "dashers_instagram['PRODUCT'] = np.where((dashers_instagram['TIMELINE'] == 'Jun14-Jul03-2019')&(dashers_instagram['TAXONOMY_STYLE'] == 'Tree Breezer'), 'Breezer',\n",
    "                                          np.where((dashers_instagram['TIMELINE'] == 'Sep18-Oct07-2019')&(dashers_instagram['TAXONOMY_STYLE'].isin(['Wool Runner Mizzle', 'Wool Runner-up Mizzle'])), 'Mizzle',\n",
    "                                                  np.where(dashers_instagram['TIMELINE'] == 'Jan1-Apr27-2020', 'All', \n",
    "                                                          np.where((dashers_instagram['TIMELINE'] == 'Apr28-May16-2020')&(dashers_instagram['TAXONOMY_STYLE'] == 'Tree Dasher'), 'Dasher',\n",
    "                                                                  np.where((dashers_instagram['TIMELINE'] == 'Apr28-May16-2020')&(dashers_instagram['TAXONOMY_STYLE'] != 'Tree Dasher'), 'Non-Dasher', 'Rest')))))"
   ]
  },
  {
   "cell_type": "code",
   "execution_count": null,
   "metadata": {},
   "outputs": [],
   "source": [
    "dashers_instagram = dashers_instagram[~dashers_instagram['PRODUCT'].isin(['Rest'])]"
   ]
  },
  {
   "cell_type": "code",
   "execution_count": null,
   "metadata": {},
   "outputs": [],
   "source": [
    "dashers_instagram_new_pivot = dashers_instagram[dashers_instagram['IS_NEW_CUSTOMER'] == True].pivot_table(index = ['TIMELINE','PRODUCT'], \n",
    "                                 columns = ['IS_NEW_CUSTOMER','AGE_GROUP'], \n",
    "                                 values =  'NUM_ORDERS',\n",
    "                                 aggfunc = 'sum')"
   ]
  },
  {
   "cell_type": "code",
   "execution_count": null,
   "metadata": {},
   "outputs": [],
   "source": [
    "dashers_instagram_old_pivot = dashers_instagram[dashers_instagram['IS_NEW_CUSTOMER'] == False].pivot_table(index = ['TIMELINE','PRODUCT'], \n",
    "                                 columns = ['IS_NEW_CUSTOMER','AGE_GROUP'], \n",
    "                                 values =  'NUM_ORDERS',\n",
    "                                 aggfunc = 'sum')"
   ]
  },
  {
   "cell_type": "code",
   "execution_count": null,
   "metadata": {},
   "outputs": [],
   "source": [
    "dashers_instagram_pivot = pd.merge(dashers_instagram_new_pivot, dashers_instagram_old_pivot, how = 'inner', on = ['TIMELINE', 'PRODUCT'])\n",
    "dashers_instagram_pivot\n",
    "dashers_instagram_pivot.T.to_clipboard()"
   ]
  },
  {
   "cell_type": "code",
   "execution_count": null,
   "metadata": {},
   "outputs": [],
   "source": []
  }
 ],
 "metadata": {
  "kernelspec": {
   "display_name": "Python 3",
   "language": "python",
   "name": "python3"
  },
  "language_info": {
   "codemirror_mode": {
    "name": "ipython",
    "version": 3
   },
   "file_extension": ".py",
   "mimetype": "text/x-python",
   "name": "python",
   "nbconvert_exporter": "python",
   "pygments_lexer": "ipython3",
   "version": "3.7.3"
  }
 },
 "nbformat": 4,
 "nbformat_minor": 4
}
