{
 "cells": [
  {
   "cell_type": "code",
   "execution_count": 1,
   "metadata": {},
   "outputs": [],
   "source": [
    "import pandas as pd\n",
    "\n",
    "import snowflake.connector\n",
    "\n",
    "import numpy as np\n",
    "\n",
    "%matplotlib inline\n",
    "\n",
    "import matplotlib.pyplot as plt \n",
    "\n",
    "from pydataset import data\n",
    "\n",
    "from datetime import datetime, timedelta\n",
    "\n",
    "from IPython.core.interactiveshell import InteractiveShell\n",
    "InteractiveShell.ast_node_interactivity = \"all\"\n",
    "\n",
    "pd.options.display.max_rows = 1000\n",
    "pd.options.display.max_columns = 1000"
   ]
  },
  {
   "cell_type": "code",
   "execution_count": 2,
   "metadata": {},
   "outputs": [],
   "source": [
    "import config as cfg"
   ]
  },
  {
   "cell_type": "code",
   "execution_count": 3,
   "metadata": {},
   "outputs": [],
   "source": [
    "snowflake_user = cfg.snowflake_access['snowflake_user']\n",
    "snowflake_pass = cfg.snowflake_access['snowflake_pass']\n",
    "snowflake_acct = cfg.snowflake_access['snowflake_acct']\n",
    "snowflake_wh = 'BIRDFACTS_PROD_WAREHOUSE'\n",
    "snowflake_db = 'BIRDFACTSDEV'\n",
    "snowflake_schema = 'BIRDFACTS_ANALYTICS'\n",
    "\n",
    "con = snowflake.connector.connect(\n",
    "    user = snowflake_user,\n",
    "    password = snowflake_pass,\n",
    "    account = snowflake_acct,\n",
    "    warehouse = snowflake_wh,\n",
    "    database = snowflake_db,\n",
    "    schema = snowflake_schema\n",
    ")\n",
    "\n",
    "cs = con.cursor()"
   ]
  },
  {
   "cell_type": "code",
   "execution_count": 35,
   "metadata": {},
   "outputs": [],
   "source": [
    "def sales(start, end, material_family, gender):\n",
    "    sales_query = \"\"\"\n",
    "    select\n",
    "    happened_at_local_date,\n",
    "    taxonomy_style,\n",
    "    sum(gross_sales_usd) as gross_sales,\n",
    "    sum(quantity) as unit_sales\n",
    "    from\n",
    "    fact_sales\n",
    "    where\n",
    "    sales_channel = 'eCommerce'\n",
    "    and happened_at_local_date between \"\"\"+ start +\"\"\" and \"\"\" + end + \"\"\"\n",
    "    and profit_center_country = 'United States'\n",
    "    and taxonomy_category = 'Shoes'\n",
    "    and material_family = \"\"\" + material_family + \"\"\"\n",
    "    and gender in \"\"\"  + gender + \"\"\"\n",
    "    and event_type = 'order'\n",
    "    group by 1, 2\n",
    "    order by 1, 2\n",
    "    \"\"\"\n",
    "    sales = pd.DataFrame(cs.execute(sales_query).fetchall(),\n",
    "                           columns = ([col[0] for col in cs.description]))\n",
    "    sales['GROSS_SALES'] = pd.to_numeric(sales['GROSS_SALES'])\n",
    "    sales['UNIT_SALES'] = pd.to_numeric(sales['UNIT_SALES'])\n",
    "    sales_pivot = sales.pivot_table(index = 'HAPPENED_AT_LOCAL_DATE',\n",
    "                 columns = 'TAXONOMY_STYLE',\n",
    "                 values = 'UNIT_SALES',\n",
    "                 aggfunc = 'sum').reset_index().fillna(0)\n",
    "    sales_pivot.to_clipboard(index = False)"
   ]
  },
  {
   "cell_type": "code",
   "execution_count": 36,
   "metadata": {},
   "outputs": [],
   "source": [
    "sales(\"'2020-04-01'\", \"'2020-05-31'\", \"'Tree'\", \"('Male', 'Female')\")"
   ]
  },
  {
   "cell_type": "code",
   "execution_count": 37,
   "metadata": {},
   "outputs": [],
   "source": [
    "sales(\"'2019-04-01'\", \"'2019-05-31'\", \"'Tree'\", \"('Male')\")"
   ]
  },
  {
   "cell_type": "code",
   "execution_count": 38,
   "metadata": {},
   "outputs": [],
   "source": [
    "sales(\"'2019-04-01'\", \"'2019-05-31'\", \"'Tree'\", \"('Male', 'Female')\")"
   ]
  },
  {
   "cell_type": "code",
   "execution_count": 33,
   "metadata": {},
   "outputs": [],
   "source": [
    "sales(\"'2020-04-01'\", \"'2020-05-31'\", \"'Wool'\")"
   ]
  }
 ],
 "metadata": {
  "kernelspec": {
   "display_name": "Python 3",
   "language": "python",
   "name": "python3"
  },
  "language_info": {
   "codemirror_mode": {
    "name": "ipython",
    "version": 3
   },
   "file_extension": ".py",
   "mimetype": "text/x-python",
   "name": "python",
   "nbconvert_exporter": "python",
   "pygments_lexer": "ipython3",
   "version": "3.7.3"
  }
 },
 "nbformat": 4,
 "nbformat_minor": 4
}
