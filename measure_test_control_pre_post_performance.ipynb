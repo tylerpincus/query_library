{
 "cells": [
  {
   "cell_type": "code",
   "execution_count": 1,
   "metadata": {},
   "outputs": [],
   "source": [
    "import pandas as pd\n",
    "\n",
    "import snowflake.connector\n",
    "\n",
    "import numpy as np\n",
    "\n",
    "%matplotlib inline\n",
    "\n",
    "import matplotlib.pyplot as plt \n",
    "\n",
    "from pydataset import data\n",
    "\n",
    "from datetime import datetime, timedelta\n",
    "\n",
    "from IPython.core.interactiveshell import InteractiveShell\n",
    "InteractiveShell.ast_node_interactivity = \"all\"\n",
    "\n",
    "pd.options.display.max_rows = 1000\n",
    "pd.options.display.max_columns = 1000\n",
    "\n",
    "import config as cfg\n",
    "\n",
    "snowflake_user = cfg.snowflake_access['snowflake_user']\n",
    "snowflake_pass = cfg.snowflake_access['snowflake_pass']\n",
    "snowflake_acct = cfg.snowflake_access['snowflake_acct']\n",
    "snowflake_wh = 'BIRDFACTS_PROD_WAREHOUSE'\n",
    "snowflake_db = 'BIRDFACTSDEV'\n",
    "snowflake_schema = 'BIRDFACTS_ANALYTICS'\n",
    "\n",
    "con = snowflake.connector.connect(\n",
    "    user = snowflake_user,\n",
    "    password = snowflake_pass,\n",
    "    account = snowflake_acct,\n",
    "    warehouse = snowflake_wh,\n",
    "    database = snowflake_db,\n",
    "    schema = snowflake_schema\n",
    ")\n",
    "\n",
    "cs = con.cursor()"
   ]
  },
  {
   "cell_type": "markdown",
   "metadata": {},
   "source": [
    "Sales"
   ]
  },
  {
   "cell_type": "code",
   "execution_count": 143,
   "metadata": {},
   "outputs": [],
   "source": [
    "daily_sales_query = \"\"\"\n",
    "select\n",
    "case when a.dma in ('New York') then 'test' else 'control' end as test_control_group,\n",
    "case when b.happened_at_local_date between '2020-04-29' and '2020-05-10' then 'pre' else 'post' end as pre_post_period,\n",
    "b.happened_at_local_date,\n",
    "sum(b.gross_sales_usd) as gross_sales\n",
    "from\n",
    "birdfactsdev.birdfacts_analytics.dma_to_zip_mapping as a\n",
    "left join\n",
    "birdfactsdev.birdfacts_analytics.fact_sales as b\n",
    "on a.postal_code = left(b.shipping_postal_code, 5)\n",
    "where b.happened_at_local_date between '2020-04-29' and '2020-05-24'\n",
    "and b.sales_channel = 'eCommerce'\n",
    "and b.profit_center_country = 'United States'\n",
    "and a.dma in ('New York', 'Chicago', 'Boston')\n",
    "group by 1, 2, 3\n",
    "order by 1, 2, 3\n",
    ";\n",
    "\"\"\""
   ]
  },
  {
   "cell_type": "code",
   "execution_count": 144,
   "metadata": {},
   "outputs": [],
   "source": [
    "daily_sales = pd.DataFrame(cs.execute(daily_sales_query).fetchall(),\n",
    "                           columns = ([col[0] for col in cs.description]))"
   ]
  },
  {
   "cell_type": "code",
   "execution_count": 145,
   "metadata": {},
   "outputs": [
    {
     "data": {
      "text/plain": [
       "(52, 4)"
      ]
     },
     "execution_count": 145,
     "metadata": {},
     "output_type": "execute_result"
    },
    {
     "data": {
      "text/html": [
       "<div>\n",
       "<style scoped>\n",
       "    .dataframe tbody tr th:only-of-type {\n",
       "        vertical-align: middle;\n",
       "    }\n",
       "\n",
       "    .dataframe tbody tr th {\n",
       "        vertical-align: top;\n",
       "    }\n",
       "\n",
       "    .dataframe thead th {\n",
       "        text-align: right;\n",
       "    }\n",
       "</style>\n",
       "<table border=\"1\" class=\"dataframe\">\n",
       "  <thead>\n",
       "    <tr style=\"text-align: right;\">\n",
       "      <th></th>\n",
       "      <th>TEST_CONTROL_GROUP</th>\n",
       "      <th>PRE_POST_PERIOD</th>\n",
       "      <th>HAPPENED_AT_LOCAL_DATE</th>\n",
       "      <th>GROSS_SALES</th>\n",
       "    </tr>\n",
       "  </thead>\n",
       "  <tbody>\n",
       "    <tr>\n",
       "      <th>0</th>\n",
       "      <td>control</td>\n",
       "      <td>post</td>\n",
       "      <td>2020-05-11</td>\n",
       "      <td>38950.00</td>\n",
       "    </tr>\n",
       "    <tr>\n",
       "      <th>1</th>\n",
       "      <td>control</td>\n",
       "      <td>post</td>\n",
       "      <td>2020-05-12</td>\n",
       "      <td>60100.00</td>\n",
       "    </tr>\n",
       "    <tr>\n",
       "      <th>2</th>\n",
       "      <td>control</td>\n",
       "      <td>post</td>\n",
       "      <td>2020-05-13</td>\n",
       "      <td>47464.00</td>\n",
       "    </tr>\n",
       "    <tr>\n",
       "      <th>3</th>\n",
       "      <td>control</td>\n",
       "      <td>post</td>\n",
       "      <td>2020-05-14</td>\n",
       "      <td>70819.00</td>\n",
       "    </tr>\n",
       "    <tr>\n",
       "      <th>4</th>\n",
       "      <td>control</td>\n",
       "      <td>post</td>\n",
       "      <td>2020-05-15</td>\n",
       "      <td>66865.00</td>\n",
       "    </tr>\n",
       "  </tbody>\n",
       "</table>\n",
       "</div>"
      ],
      "text/plain": [
       "  TEST_CONTROL_GROUP PRE_POST_PERIOD HAPPENED_AT_LOCAL_DATE GROSS_SALES\n",
       "0            control            post             2020-05-11    38950.00\n",
       "1            control            post             2020-05-12    60100.00\n",
       "2            control            post             2020-05-13    47464.00\n",
       "3            control            post             2020-05-14    70819.00\n",
       "4            control            post             2020-05-15    66865.00"
      ]
     },
     "execution_count": 145,
     "metadata": {},
     "output_type": "execute_result"
    }
   ],
   "source": [
    "daily_sales.shape\n",
    "daily_sales.head()"
   ]
  },
  {
   "cell_type": "code",
   "execution_count": 146,
   "metadata": {},
   "outputs": [],
   "source": [
    "daily_sales['GROSS_SALES'] = pd.to_numeric(daily_sales['GROSS_SALES'])"
   ]
  },
  {
   "cell_type": "code",
   "execution_count": 147,
   "metadata": {},
   "outputs": [],
   "source": [
    "daily_sales_pivot = daily_sales.pivot_table(index = ['PRE_POST_PERIOD','HAPPENED_AT_LOCAL_DATE'], \n",
    "                        columns = 'TEST_CONTROL_GROUP', \n",
    "                        values = 'GROSS_SALES',\n",
    "                       aggfunc = 'sum').reset_index().sort_values(by = 'HAPPENED_AT_LOCAL_DATE').reset_index(drop = True)"
   ]
  },
  {
   "cell_type": "code",
   "execution_count": 148,
   "metadata": {},
   "outputs": [],
   "source": [
    "daily_sales_pivot.to_clipboard(index = False)"
   ]
  },
  {
   "cell_type": "code",
   "execution_count": null,
   "metadata": {},
   "outputs": [],
   "source": []
  },
  {
   "cell_type": "code",
   "execution_count": 149,
   "metadata": {},
   "outputs": [],
   "source": [
    "avg_sales_query = \"\"\"\n",
    "select\n",
    "test_control_group,\n",
    "pre_post_period,\n",
    "avg(gross_sales) as avg_daily_gross_sales\n",
    "from\n",
    "(\n",
    "select\n",
    "case when a.dma in ('New York') then 'test' else 'control' end as test_control_group,\n",
    "case when b.happened_at_local_date between '2020-04-29' and '2020-05-10' then 'pre' else 'post' end as pre_post_period,\n",
    "b.happened_at_local_date,\n",
    "sum(b.gross_sales_usd) as gross_sales\n",
    "from\n",
    "birdfactsdev.birdfacts_analytics.dma_to_zip_mapping as a\n",
    "left join\n",
    "birdfactsdev.birdfacts_analytics.fact_sales as b\n",
    "on a.postal_code = left(b.shipping_postal_code, 5)\n",
    "where b.happened_at_local_date between '2020-04-29' and '2020-05-24'\n",
    "and b.sales_channel = 'eCommerce'\n",
    "and b.profit_center_country = 'United States'\n",
    "and a.dma in ('New York', 'Chicago', 'Boston')\n",
    "group by 1, 2, 3\n",
    "order by 1, 2, 3\n",
    ")\n",
    "group by 1, 2\n",
    "order by 1, 2\n",
    "\"\"\""
   ]
  },
  {
   "cell_type": "code",
   "execution_count": 150,
   "metadata": {},
   "outputs": [],
   "source": [
    "avg_sales = pd.DataFrame(cs.execute(avg_sales_query).fetchall(),\n",
    "                           columns = ([col[0] for col in cs.description]))"
   ]
  },
  {
   "cell_type": "code",
   "execution_count": 151,
   "metadata": {},
   "outputs": [
    {
     "data": {
      "text/plain": [
       "(4, 3)"
      ]
     },
     "execution_count": 151,
     "metadata": {},
     "output_type": "execute_result"
    },
    {
     "data": {
      "text/html": [
       "<div>\n",
       "<style scoped>\n",
       "    .dataframe tbody tr th:only-of-type {\n",
       "        vertical-align: middle;\n",
       "    }\n",
       "\n",
       "    .dataframe tbody tr th {\n",
       "        vertical-align: top;\n",
       "    }\n",
       "\n",
       "    .dataframe thead th {\n",
       "        text-align: right;\n",
       "    }\n",
       "</style>\n",
       "<table border=\"1\" class=\"dataframe\">\n",
       "  <thead>\n",
       "    <tr style=\"text-align: right;\">\n",
       "      <th></th>\n",
       "      <th>TEST_CONTROL_GROUP</th>\n",
       "      <th>PRE_POST_PERIOD</th>\n",
       "      <th>AVG_DAILY_GROSS_SALES</th>\n",
       "    </tr>\n",
       "  </thead>\n",
       "  <tbody>\n",
       "    <tr>\n",
       "      <th>0</th>\n",
       "      <td>control</td>\n",
       "      <td>post</td>\n",
       "      <td>52935.56142857</td>\n",
       "    </tr>\n",
       "    <tr>\n",
       "      <th>1</th>\n",
       "      <td>control</td>\n",
       "      <td>pre</td>\n",
       "      <td>64250.27666667</td>\n",
       "    </tr>\n",
       "    <tr>\n",
       "      <th>2</th>\n",
       "      <td>test</td>\n",
       "      <td>post</td>\n",
       "      <td>60545.28285714</td>\n",
       "    </tr>\n",
       "    <tr>\n",
       "      <th>3</th>\n",
       "      <td>test</td>\n",
       "      <td>pre</td>\n",
       "      <td>67589.96083333</td>\n",
       "    </tr>\n",
       "  </tbody>\n",
       "</table>\n",
       "</div>"
      ],
      "text/plain": [
       "  TEST_CONTROL_GROUP PRE_POST_PERIOD AVG_DAILY_GROSS_SALES\n",
       "0            control            post        52935.56142857\n",
       "1            control             pre        64250.27666667\n",
       "2               test            post        60545.28285714\n",
       "3               test             pre        67589.96083333"
      ]
     },
     "execution_count": 151,
     "metadata": {},
     "output_type": "execute_result"
    }
   ],
   "source": [
    "avg_sales.shape\n",
    "avg_sales.head()"
   ]
  },
  {
   "cell_type": "code",
   "execution_count": 152,
   "metadata": {},
   "outputs": [],
   "source": [
    "avg_sales['AVG_DAILY_GROSS_SALES'] = pd.to_numeric(avg_sales['AVG_DAILY_GROSS_SALES'])"
   ]
  },
  {
   "cell_type": "code",
   "execution_count": 153,
   "metadata": {},
   "outputs": [],
   "source": [
    "avg_sales.to_clipboard(index = False)"
   ]
  },
  {
   "cell_type": "code",
   "execution_count": null,
   "metadata": {},
   "outputs": [],
   "source": []
  },
  {
   "cell_type": "code",
   "execution_count": null,
   "metadata": {},
   "outputs": [],
   "source": []
  },
  {
   "cell_type": "markdown",
   "metadata": {},
   "source": [
    "Sessions"
   ]
  },
  {
   "cell_type": "code",
   "execution_count": 12,
   "metadata": {},
   "outputs": [],
   "source": [
    "daily_sessions_query = \"\"\"\n",
    "select\n",
    "case when GEO_NETWORK_METRO in ('New York, NY', 'New York NY') then 'test' else 'control' end as test_control_group,\n",
    "case when session_date between '2020-04-27' and '2020-05-10' then 'pre' else 'post' end as pre_post_period,\n",
    "session_date,\n",
    "num_sessions as daily_sessions\n",
    "from\n",
    "(\n",
    "select\n",
    "GEO_NETWORK_METRO,\n",
    "date(visit_start_time) as session_date,\n",
    "count(distinct visit_id, visitor_id, visit_start_time) as num_sessions\n",
    "from\n",
    "fivetran.google_analytics_360.ga_session\n",
    "where date(visit_start_time)  between '2020-04-27' and '2020-05-24'\n",
    "and GEO_NETWORK_METRO in ('New York, NY', 'New York NY', 'Boston MA-Manchester NH', 'Chicago IL')\n",
    "group by 1, 2\n",
    "order by 1, 2\n",
    ")\n",
    "\"\"\""
   ]
  },
  {
   "cell_type": "code",
   "execution_count": 13,
   "metadata": {},
   "outputs": [],
   "source": [
    "daily_sessions = pd.DataFrame(cs.execute(daily_sessions_query).fetchall(),\n",
    "                           columns = ([col[0] for col in cs.description]))"
   ]
  },
  {
   "cell_type": "code",
   "execution_count": 14,
   "metadata": {},
   "outputs": [
    {
     "data": {
      "text/plain": [
       "(84, 4)"
      ]
     },
     "execution_count": 14,
     "metadata": {},
     "output_type": "execute_result"
    },
    {
     "data": {
      "text/html": [
       "<div>\n",
       "<style scoped>\n",
       "    .dataframe tbody tr th:only-of-type {\n",
       "        vertical-align: middle;\n",
       "    }\n",
       "\n",
       "    .dataframe tbody tr th {\n",
       "        vertical-align: top;\n",
       "    }\n",
       "\n",
       "    .dataframe thead th {\n",
       "        text-align: right;\n",
       "    }\n",
       "</style>\n",
       "<table border=\"1\" class=\"dataframe\">\n",
       "  <thead>\n",
       "    <tr style=\"text-align: right;\">\n",
       "      <th></th>\n",
       "      <th>TEST_CONTROL_GROUP</th>\n",
       "      <th>PRE_POST_PERIOD</th>\n",
       "      <th>SESSION_DATE</th>\n",
       "      <th>DAILY_SESSIONS</th>\n",
       "    </tr>\n",
       "  </thead>\n",
       "  <tbody>\n",
       "    <tr>\n",
       "      <th>0</th>\n",
       "      <td>control</td>\n",
       "      <td>pre</td>\n",
       "      <td>2020-04-27</td>\n",
       "      <td>3842</td>\n",
       "    </tr>\n",
       "    <tr>\n",
       "      <th>1</th>\n",
       "      <td>control</td>\n",
       "      <td>pre</td>\n",
       "      <td>2020-04-28</td>\n",
       "      <td>13879</td>\n",
       "    </tr>\n",
       "    <tr>\n",
       "      <th>2</th>\n",
       "      <td>control</td>\n",
       "      <td>pre</td>\n",
       "      <td>2020-04-29</td>\n",
       "      <td>8263</td>\n",
       "    </tr>\n",
       "    <tr>\n",
       "      <th>3</th>\n",
       "      <td>control</td>\n",
       "      <td>pre</td>\n",
       "      <td>2020-04-30</td>\n",
       "      <td>5794</td>\n",
       "    </tr>\n",
       "    <tr>\n",
       "      <th>4</th>\n",
       "      <td>control</td>\n",
       "      <td>pre</td>\n",
       "      <td>2020-05-01</td>\n",
       "      <td>5177</td>\n",
       "    </tr>\n",
       "  </tbody>\n",
       "</table>\n",
       "</div>"
      ],
      "text/plain": [
       "  TEST_CONTROL_GROUP PRE_POST_PERIOD SESSION_DATE  DAILY_SESSIONS\n",
       "0            control             pre   2020-04-27            3842\n",
       "1            control             pre   2020-04-28           13879\n",
       "2            control             pre   2020-04-29            8263\n",
       "3            control             pre   2020-04-30            5794\n",
       "4            control             pre   2020-05-01            5177"
      ]
     },
     "execution_count": 14,
     "metadata": {},
     "output_type": "execute_result"
    }
   ],
   "source": [
    "daily_sessions.shape\n",
    "daily_sessions.head()"
   ]
  },
  {
   "cell_type": "code",
   "execution_count": 15,
   "metadata": {},
   "outputs": [],
   "source": [
    "avg_sessions_query = \"\"\"\n",
    "select\n",
    "case when GEO_NETWORK_METRO in ('New York, NY', 'New York NY') then 'test' else 'control' end as test_control_group,\n",
    "case when session_date between '2020-04-27' and '2020-05-10' then 'pre' else 'post' end as pre_post_period,\n",
    "avg(num_sessions) as avg_daily_sessions\n",
    "from\n",
    "(\n",
    "select\n",
    "GEO_NETWORK_METRO,\n",
    "date(visit_start_time) as session_date,\n",
    "count(distinct visit_id, visitor_id, visit_start_time) as num_sessions\n",
    "from\n",
    "fivetran.google_analytics_360.ga_session\n",
    "where date(visit_start_time)  between '2020-04-27' and '2020-05-24'\n",
    "and GEO_NETWORK_METRO in ('New York, NY', 'New York NY', 'Boston MA-Manchester NH', 'Chicago IL')\n",
    "group by 1, 2\n",
    "order by 1, 2\n",
    ")\n",
    "group by 1, 2\n",
    "order by 1, 2\n",
    ";\n",
    "\"\"\""
   ]
  },
  {
   "cell_type": "code",
   "execution_count": 16,
   "metadata": {},
   "outputs": [],
   "source": [
    "avg_sessions = pd.DataFrame(cs.execute(avg_sessions_query).fetchall(),\n",
    "                           columns = ([col[0] for col in cs.description]))"
   ]
  },
  {
   "cell_type": "code",
   "execution_count": 18,
   "metadata": {},
   "outputs": [
    {
     "data": {
      "text/plain": [
       "(4, 3)"
      ]
     },
     "execution_count": 18,
     "metadata": {},
     "output_type": "execute_result"
    },
    {
     "data": {
      "text/html": [
       "<div>\n",
       "<style scoped>\n",
       "    .dataframe tbody tr th:only-of-type {\n",
       "        vertical-align: middle;\n",
       "    }\n",
       "\n",
       "    .dataframe tbody tr th {\n",
       "        vertical-align: top;\n",
       "    }\n",
       "\n",
       "    .dataframe thead th {\n",
       "        text-align: right;\n",
       "    }\n",
       "</style>\n",
       "<table border=\"1\" class=\"dataframe\">\n",
       "  <thead>\n",
       "    <tr style=\"text-align: right;\">\n",
       "      <th></th>\n",
       "      <th>TEST_CONTROL_GROUP</th>\n",
       "      <th>PRE_POST_PERIOD</th>\n",
       "      <th>AVG_DAILY_SESSIONS</th>\n",
       "    </tr>\n",
       "  </thead>\n",
       "  <tbody>\n",
       "    <tr>\n",
       "      <th>0</th>\n",
       "      <td>control</td>\n",
       "      <td>post</td>\n",
       "      <td>4076.035714</td>\n",
       "    </tr>\n",
       "    <tr>\n",
       "      <th>1</th>\n",
       "      <td>control</td>\n",
       "      <td>pre</td>\n",
       "      <td>5763.464286</td>\n",
       "    </tr>\n",
       "    <tr>\n",
       "      <th>2</th>\n",
       "      <td>test</td>\n",
       "      <td>post</td>\n",
       "      <td>8310.071429</td>\n",
       "    </tr>\n",
       "    <tr>\n",
       "      <th>3</th>\n",
       "      <td>test</td>\n",
       "      <td>pre</td>\n",
       "      <td>10716.928571</td>\n",
       "    </tr>\n",
       "  </tbody>\n",
       "</table>\n",
       "</div>"
      ],
      "text/plain": [
       "  TEST_CONTROL_GROUP PRE_POST_PERIOD AVG_DAILY_SESSIONS\n",
       "0            control            post        4076.035714\n",
       "1            control             pre        5763.464286\n",
       "2               test            post        8310.071429\n",
       "3               test             pre       10716.928571"
      ]
     },
     "execution_count": 18,
     "metadata": {},
     "output_type": "execute_result"
    }
   ],
   "source": [
    "avg_sessions.shape\n",
    "avg_sessions.head()"
   ]
  },
  {
   "cell_type": "code",
   "execution_count": 25,
   "metadata": {},
   "outputs": [],
   "source": [
    "avg_sessions['AVG_DAILY_SESSIONS'] = pd.to_numeric(avg_sessions['AVG_DAILY_SESSIONS'])"
   ]
  }
 ],
 "metadata": {
  "kernelspec": {
   "display_name": "Python 3",
   "language": "python",
   "name": "python3"
  },
  "language_info": {
   "codemirror_mode": {
    "name": "ipython",
    "version": 3
   },
   "file_extension": ".py",
   "mimetype": "text/x-python",
   "name": "python",
   "nbconvert_exporter": "python",
   "pygments_lexer": "ipython3",
   "version": "3.7.3"
  }
 },
 "nbformat": 4,
 "nbformat_minor": 4
}
