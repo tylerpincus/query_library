{
 "cells": [
  {
   "cell_type": "code",
   "execution_count": 224,
   "metadata": {},
   "outputs": [],
   "source": [
    "import pandas as pd\n",
    "\n",
    "import snowflake.connector\n",
    "\n",
    "import numpy as np\n",
    "\n",
    "%matplotlib inline\n",
    "\n",
    "import matplotlib.pyplot as plt \n",
    "\n",
    "from pydataset import data\n",
    "\n",
    "from datetime import datetime, timedelta\n",
    "\n",
    "from IPython.core.interactiveshell import InteractiveShell\n",
    "InteractiveShell.ast_node_interactivity = \"all\"\n",
    "\n",
    "pd.options.display.max_rows = 1000\n",
    "pd.options.display.max_columns = 1000\n",
    "\n",
    "import config as cfg\n",
    "\n",
    "from scipy import stats\n",
    "\n",
    "snowflake_user = cfg.snowflake_access['snowflake_user']\n",
    "snowflake_pass = cfg.snowflake_access['snowflake_pass']\n",
    "snowflake_acct = cfg.snowflake_access['snowflake_acct']\n",
    "snowflake_wh = 'BIRDFACTS_PROD_WAREHOUSE'\n",
    "snowflake_db = 'BIRDFACTSDEV'\n",
    "snowflake_schema = 'BIRDFACTS_ANALYTICS'\n",
    "\n",
    "con = snowflake.connector.connect(\n",
    "    user = snowflake_user,\n",
    "    password = snowflake_pass,\n",
    "    account = snowflake_acct,\n",
    "    warehouse = snowflake_wh,\n",
    "    database = snowflake_db,\n",
    "    schema = snowflake_schema\n",
    ")\n",
    "\n",
    "cs = con.cursor()"
   ]
  },
  {
   "cell_type": "code",
   "execution_count": null,
   "metadata": {},
   "outputs": [],
   "source": []
  },
  {
   "cell_type": "code",
   "execution_count": null,
   "metadata": {},
   "outputs": [],
   "source": []
  },
  {
   "cell_type": "markdown",
   "metadata": {},
   "source": [
    "### Sales"
   ]
  },
  {
   "cell_type": "markdown",
   "metadata": {},
   "source": [
    "Test: New York, San Francisco - Oakland - San Jose, Dallas - Ft. Worth, Denver"
   ]
  },
  {
   "cell_type": "markdown",
   "metadata": {},
   "source": [
    "Control: Chicago, Boston, Seattle - Tacoma, Houston, Phoenix, San Diego"
   ]
  },
  {
   "cell_type": "code",
   "execution_count": 231,
   "metadata": {},
   "outputs": [],
   "source": [
    "def daily_sales_values(test_group, control_group):\n",
    "    daily_sales_query = \"\"\"\n",
    "    select\n",
    "    case when a.dma in \"\"\" + test_group + \"\"\" then 'test' else 'control' end as test_control_group,\n",
    "    case when b.happened_at_local_date between '2020-04-01' and '2020-05-10' then 'pre' else 'post' end as pre_post_period,\n",
    "    b.happened_at_local_date,\n",
    "    sum(b.gross_sales_usd) as gross_sales\n",
    "    from\n",
    "    birdfactsdev.birdfacts_analytics.dma_to_zip_mapping as a\n",
    "    left join\n",
    "    birdfactsdev.birdfacts_analytics.fact_sales as b\n",
    "    on a.postal_code = left(b.shipping_postal_code, 5)\n",
    "    where b.happened_at_local_date between '2020-04-01' and '2020-05-31'\n",
    "    and b.sales_channel = 'eCommerce'\n",
    "    and b.profit_center_country = 'United States'\n",
    "    and b.event_type = 'order'\n",
    "    and (a.dma in \"\"\" + test_group + \"\"\" or a.dma in \"\"\" + control_group + \"\"\")\n",
    "    group by 1, 2, 3\n",
    "    order by 1, 2, 3\n",
    "    ;\n",
    "    \"\"\"\n",
    "    \n",
    "    daily_sales = pd.DataFrame(cs.execute(daily_sales_query).fetchall(),\n",
    "                           columns = ([col[0] for col in cs.description]))\n",
    "    \n",
    "    daily_sales['GROSS_SALES'] = pd.to_numeric(daily_sales['GROSS_SALES'])\n",
    "    daily_sales_pivot = daily_sales.pivot_table(index = ['PRE_POST_PERIOD','HAPPENED_AT_LOCAL_DATE'], \n",
    "                        columns = 'TEST_CONTROL_GROUP', \n",
    "                        values = 'GROSS_SALES',\n",
    "                       aggfunc = 'sum').reset_index().sort_values(by = 'HAPPENED_AT_LOCAL_DATE').reset_index(drop = True)\n",
    "    \n",
    "    daily_sales_pivot['diff'] = daily_sales_pivot['test'] - daily_sales_pivot['control']\n",
    "    \n",
    "    print(stats.ttest_ind(daily_sales_pivot[daily_sales_pivot['PRE_POST_PERIOD'] == 'pre']['diff'], daily_sales_pivot[daily_sales_pivot['PRE_POST_PERIOD'] == 'post']['diff'], equal_var = False))\n",
    "    \n",
    "    daily_sales_pivot.to_clipboard(index = False)"
   ]
  },
  {
   "cell_type": "code",
   "execution_count": 232,
   "metadata": {},
   "outputs": [
    {
     "name": "stdout",
     "output_type": "stream",
     "text": [
      "Ttest_indResult(statistic=-4.486957463972254, pvalue=4.1480834950535234e-05)\n"
     ]
    }
   ],
   "source": [
    "daily_sales_values(\"('New York')\", \"('Chicago', 'Boston')\")"
   ]
  },
  {
   "cell_type": "code",
   "execution_count": 233,
   "metadata": {},
   "outputs": [
    {
     "name": "stdout",
     "output_type": "stream",
     "text": [
      "Ttest_indResult(statistic=1.5060337301050926, pvalue=0.13968132972505765)\n"
     ]
    }
   ],
   "source": [
    "daily_sales_values(\"('San Francisco - Oakland - San Jose')\", \"('Seattle - Tacoma')\")"
   ]
  },
  {
   "cell_type": "code",
   "execution_count": 234,
   "metadata": {},
   "outputs": [
    {
     "name": "stdout",
     "output_type": "stream",
     "text": [
      "Ttest_indResult(statistic=-1.1767971999106517, pvalue=0.24425855220911163)\n"
     ]
    }
   ],
   "source": [
    "daily_sales_values(\"('Dallas - Ft. Worth')\", \"('Houston', 'Phoenix')\")"
   ]
  },
  {
   "cell_type": "code",
   "execution_count": 235,
   "metadata": {},
   "outputs": [
    {
     "name": "stdout",
     "output_type": "stream",
     "text": [
      "Ttest_indResult(statistic=-0.19929103219005373, pvalue=0.8429767419202714)\n"
     ]
    }
   ],
   "source": [
    "daily_sales_values(\"('Denver')\", \"('San Diego')\")"
   ]
  },
  {
   "cell_type": "code",
   "execution_count": 236,
   "metadata": {},
   "outputs": [
    {
     "name": "stdout",
     "output_type": "stream",
     "text": [
      "Ttest_indResult(statistic=-0.7879434715561839, pvalue=0.43390824092610225)\n"
     ]
    }
   ],
   "source": [
    "daily_sales_values(\"('Philadelphia')\", \"('Hartford & New Haven', 'Baltimore')\")"
   ]
  },
  {
   "cell_type": "code",
   "execution_count": null,
   "metadata": {},
   "outputs": [],
   "source": []
  },
  {
   "cell_type": "code",
   "execution_count": null,
   "metadata": {},
   "outputs": [],
   "source": []
  },
  {
   "cell_type": "code",
   "execution_count": null,
   "metadata": {},
   "outputs": [],
   "source": []
  },
  {
   "cell_type": "code",
   "execution_count": null,
   "metadata": {},
   "outputs": [],
   "source": []
  },
  {
   "cell_type": "markdown",
   "metadata": {},
   "source": [
    "### Orders"
   ]
  },
  {
   "cell_type": "markdown",
   "metadata": {},
   "source": [
    "Test: New York, San Francisco - Oakland - San Jose, Dallas - Ft. Worth, San Diego, Philadelphia"
   ]
  },
  {
   "cell_type": "markdown",
   "metadata": {},
   "source": [
    "Control: Chicago, Boston, Seattle - Tacoma, Houston, Phoenix, Denver, Hartford & New Haven, Baltimore"
   ]
  },
  {
   "cell_type": "code",
   "execution_count": 237,
   "metadata": {},
   "outputs": [],
   "source": [
    "def daily_orders_values(test_group, control_group):\n",
    "    daily_orders_query = \"\"\"\n",
    "    select\n",
    "    case when a.dma in \"\"\" + test_group + \"\"\" then 'test' else 'control' end as test_control_group,\n",
    "    case when b.happened_at_local_date between '2020-04-01' and '2020-05-10' then 'pre' else 'post' end as pre_post_period,\n",
    "    b.happened_at_local_date,\n",
    "    count(distinct b.order_name) as num_orders\n",
    "    from\n",
    "    birdfactsdev.birdfacts_analytics.dma_to_zip_mapping as a\n",
    "    left join\n",
    "    birdfactsdev.birdfacts_analytics.fact_sales as b\n",
    "    on a.postal_code = left(b.shipping_postal_code, 5)\n",
    "    where b.happened_at_local_date between '2020-04-01' and '2020-05-31'\n",
    "    and b.sales_channel = 'eCommerce'\n",
    "    and b.profit_center_country = 'United States'\n",
    "    and b.event_type = 'order'\n",
    "    and (a.dma in \"\"\" + test_group + \"\"\" or a.dma in \"\"\" + control_group + \"\"\")\n",
    "    group by 1, 2, 3\n",
    "    order by 1, 2, 3\n",
    "    ;\n",
    "    \"\"\"\n",
    "    \n",
    "    daily_orders = pd.DataFrame(cs.execute(daily_orders_query).fetchall(),\n",
    "                           columns = ([col[0] for col in cs.description]))\n",
    "    \n",
    "    daily_orders['NUM_ORDERS'] = pd.to_numeric(daily_orders['NUM_ORDERS'])\n",
    "    daily_orders_pivot = daily_orders.pivot_table(index = ['PRE_POST_PERIOD','HAPPENED_AT_LOCAL_DATE'], \n",
    "                        columns = 'TEST_CONTROL_GROUP', \n",
    "                        values = 'NUM_ORDERS',\n",
    "                       aggfunc = 'sum').reset_index().sort_values(by = 'HAPPENED_AT_LOCAL_DATE').reset_index(drop = True)\n",
    "    \n",
    "    daily_orders_pivot['diff'] = daily_orders_pivot['test'] - daily_orders_pivot['control']\n",
    "    \n",
    "    print(stats.ttest_ind(daily_orders_pivot[daily_orders_pivot['PRE_POST_PERIOD'] == 'pre']['diff'], daily_orders_pivot[daily_orders_pivot['PRE_POST_PERIOD'] == 'post']['diff'], equal_var = False))\n",
    "    \n",
    "    daily_orders_pivot.to_clipboard(index = False)"
   ]
  },
  {
   "cell_type": "code",
   "execution_count": 238,
   "metadata": {},
   "outputs": [
    {
     "name": "stdout",
     "output_type": "stream",
     "text": [
      "Ttest_indResult(statistic=-5.314629979259995, pvalue=3.62950518374536e-06)\n"
     ]
    }
   ],
   "source": [
    "daily_orders_values(\"('New York')\", \"('Chicago', 'Boston')\")"
   ]
  },
  {
   "cell_type": "code",
   "execution_count": 239,
   "metadata": {},
   "outputs": [
    {
     "name": "stdout",
     "output_type": "stream",
     "text": [
      "Ttest_indResult(statistic=1.695793269338536, pvalue=0.09744140524170279)\n"
     ]
    }
   ],
   "source": [
    "daily_orders_values(\"('San Francisco - Oakland - San Jose')\", \"('Seattle - Tacoma')\")"
   ]
  },
  {
   "cell_type": "code",
   "execution_count": 240,
   "metadata": {},
   "outputs": [
    {
     "name": "stdout",
     "output_type": "stream",
     "text": [
      "Ttest_indResult(statistic=-0.9896175180868448, pvalue=0.3264833969403833)\n"
     ]
    }
   ],
   "source": [
    "daily_orders_values(\"('Dallas - Ft. Worth')\", \"('Houston', 'Phoenix')\")"
   ]
  },
  {
   "cell_type": "code",
   "execution_count": 241,
   "metadata": {},
   "outputs": [
    {
     "name": "stdout",
     "output_type": "stream",
     "text": [
      "Ttest_indResult(statistic=0.4079619823690547, pvalue=0.6851592420264843)\n"
     ]
    }
   ],
   "source": [
    "daily_orders_values(\"('Denver')\", \"('San Diego')\")"
   ]
  },
  {
   "cell_type": "code",
   "execution_count": 242,
   "metadata": {},
   "outputs": [
    {
     "name": "stdout",
     "output_type": "stream",
     "text": [
      "Ttest_indResult(statistic=-1.3682260830130462, pvalue=0.17645907077359566)\n"
     ]
    }
   ],
   "source": [
    "daily_orders_values(\"('Philadelphia')\", \"('Hartford & New Haven', 'Baltimore')\")"
   ]
  },
  {
   "cell_type": "code",
   "execution_count": null,
   "metadata": {},
   "outputs": [],
   "source": []
  },
  {
   "cell_type": "code",
   "execution_count": null,
   "metadata": {},
   "outputs": [],
   "source": []
  },
  {
   "cell_type": "code",
   "execution_count": null,
   "metadata": {},
   "outputs": [],
   "source": []
  },
  {
   "cell_type": "markdown",
   "metadata": {},
   "source": [
    "### NCA"
   ]
  },
  {
   "cell_type": "markdown",
   "metadata": {},
   "source": [
    "Test: New York, San Francisco - Oakland - San Jose, Dallas - Ft. Worth, Denver, Philadelphia"
   ]
  },
  {
   "cell_type": "markdown",
   "metadata": {},
   "source": [
    "Control: Chicago, Boston, Seattle - Tacoma, Houston, Phoenix, San Diego, Hartford & New Haven, Baltimore"
   ]
  },
  {
   "cell_type": "code",
   "execution_count": 249,
   "metadata": {},
   "outputs": [],
   "source": [
    "def daily_nca_values(test_group, control_group):\n",
    "    daily_nca_query = \"\"\"\n",
    "    select\n",
    "    case when a.dma in \"\"\" + test_group + \"\"\" then 'test' else 'control' end as test_control_group,\n",
    "    case when b.happened_at_local_date between '2020-04-01' and '2020-05-10' then 'pre' else 'post' end as pre_post_period,\n",
    "    b.happened_at_local_date,\n",
    "    count(distinct b.customer_id) as nca\n",
    "    from\n",
    "    birdfactsdev.birdfacts_analytics.dma_to_zip_mapping as a\n",
    "    left join\n",
    "    birdfactsdev.birdfacts_analytics.fact_sales as b\n",
    "    on a.postal_code = left(b.shipping_postal_code, 5)\n",
    "    where b.happened_at_local_date between '2020-04-01' and '2020-05-31'\n",
    "    and b.sales_channel = 'eCommerce'\n",
    "    and b.profit_center_country = 'United States'\n",
    "    and b.event_type = 'order'\n",
    "    and b.is_new_customer = 'True'\n",
    "    and (a.dma in \"\"\" + test_group + \"\"\" or a.dma in \"\"\" + control_group + \"\"\")\n",
    "    group by 1, 2, 3\n",
    "    order by 1, 2, 3\n",
    "    ;\n",
    "    \"\"\"\n",
    "    \n",
    "    daily_nca = pd.DataFrame(cs.execute(daily_nca_query).fetchall(),\n",
    "                           columns = ([col[0] for col in cs.description]))\n",
    "    \n",
    "    daily_nca['NCA'] = pd.to_numeric(daily_nca['NCA'])\n",
    "    daily_nca_pivot = daily_nca.pivot_table(index = ['PRE_POST_PERIOD','HAPPENED_AT_LOCAL_DATE'], \n",
    "                        columns = 'TEST_CONTROL_GROUP', \n",
    "                        values = 'NCA',\n",
    "                       aggfunc = 'sum').reset_index().sort_values(by = 'HAPPENED_AT_LOCAL_DATE').reset_index(drop = True)\n",
    "    \n",
    "    daily_nca_pivot['diff'] = daily_nca_pivot['test'] - daily_nca_pivot['control']\n",
    "    \n",
    "    print(stats.ttest_ind(daily_nca_pivot[daily_nca_pivot['PRE_POST_PERIOD'] == 'pre']['diff'], daily_nca_pivot[daily_nca_pivot['PRE_POST_PERIOD'] == 'post']['diff'], equal_var = False))\n",
    "    \n",
    "    daily_nca_pivot.to_clipboard(index = False)"
   ]
  },
  {
   "cell_type": "code",
   "execution_count": 250,
   "metadata": {},
   "outputs": [
    {
     "name": "stdout",
     "output_type": "stream",
     "text": [
      "Ttest_indResult(statistic=-3.944442587587477, pvalue=0.00025652045253443196)\n"
     ]
    }
   ],
   "source": [
    "daily_nca_values(\"('New York')\", \"('Chicago', 'Boston')\")"
   ]
  },
  {
   "cell_type": "code",
   "execution_count": 251,
   "metadata": {},
   "outputs": [
    {
     "name": "stdout",
     "output_type": "stream",
     "text": [
      "Ttest_indResult(statistic=1.9793417747871571, pvalue=0.05449057661744126)\n"
     ]
    }
   ],
   "source": [
    "daily_nca_values(\"('San Francisco - Oakland - San Jose')\", \"('Seattle - Tacoma')\")"
   ]
  },
  {
   "cell_type": "code",
   "execution_count": 252,
   "metadata": {},
   "outputs": [
    {
     "name": "stdout",
     "output_type": "stream",
     "text": [
      "Ttest_indResult(statistic=-2.447026854734558, pvalue=0.017486422006917204)\n"
     ]
    }
   ],
   "source": [
    "daily_nca_values(\"('Dallas - Ft. Worth')\", \"('Houston', 'Phoenix')\")"
   ]
  },
  {
   "cell_type": "code",
   "execution_count": 253,
   "metadata": {},
   "outputs": [
    {
     "name": "stdout",
     "output_type": "stream",
     "text": [
      "Ttest_indResult(statistic=0.3518171533894892, pvalue=0.7267470945125262)\n"
     ]
    }
   ],
   "source": [
    "daily_nca_values(\"('Denver')\", \"('San Diego')\")"
   ]
  },
  {
   "cell_type": "code",
   "execution_count": 254,
   "metadata": {},
   "outputs": [
    {
     "name": "stdout",
     "output_type": "stream",
     "text": [
      "Ttest_indResult(statistic=-2.387989982836635, pvalue=0.0206990178585469)\n"
     ]
    }
   ],
   "source": [
    "daily_nca_values(\"('Philadelphia')\", \"('Hartford & New Haven', 'Baltimore')\")"
   ]
  },
  {
   "cell_type": "code",
   "execution_count": null,
   "metadata": {},
   "outputs": [],
   "source": []
  },
  {
   "cell_type": "code",
   "execution_count": null,
   "metadata": {},
   "outputs": [],
   "source": []
  },
  {
   "cell_type": "code",
   "execution_count": null,
   "metadata": {},
   "outputs": [],
   "source": []
  },
  {
   "cell_type": "code",
   "execution_count": null,
   "metadata": {},
   "outputs": [],
   "source": []
  },
  {
   "cell_type": "code",
   "execution_count": null,
   "metadata": {},
   "outputs": [],
   "source": []
  },
  {
   "cell_type": "markdown",
   "metadata": {},
   "source": [
    "### Sessions"
   ]
  },
  {
   "cell_type": "code",
   "execution_count": 243,
   "metadata": {},
   "outputs": [],
   "source": [
    "def daily_sessions_values(test_group, control_group):\n",
    "    daily_sessions_query = \"\"\"\n",
    "    select\n",
    "    case when GEO_NETWORK_METRO in \"\"\" + test_group + \"\"\" then 'test' else 'control' end as test_control_group,\n",
    "    case when session_date between '2020-04-01' and '2020-05-10' then 'pre' else 'post' end as pre_post_period,\n",
    "    session_date,\n",
    "    num_sessions as daily_sessions\n",
    "    from\n",
    "    (\n",
    "    select\n",
    "    GEO_NETWORK_METRO,\n",
    "    date(visit_start_time) as session_date,\n",
    "    count(distinct visit_id, visitor_id, visit_start_time) as num_sessions\n",
    "    from\n",
    "    fivetran.google_analytics_360.ga_session\n",
    "    where date(visit_start_time)  between '2020-04-01' and '2020-05-31'\n",
    "    and (GEO_NETWORK_METRO in \"\"\" + test_group + \"\"\" or GEO_NETWORK_METRO in \"\"\" + control_group + \"\"\")\n",
    "    group by 1, 2\n",
    "    order by 1, 2\n",
    "    )\n",
    "    ;\n",
    "    \"\"\"\n",
    "    \n",
    "    daily_sessions = pd.DataFrame(cs.execute(daily_sessions_query).fetchall(),\n",
    "                           columns = ([col[0] for col in cs.description]))\n",
    "    \n",
    "    daily_sessions['DAILY_SESSIONS'] = pd.to_numeric(daily_sessions['DAILY_SESSIONS'])\n",
    "    \n",
    "    daily_sessions_pivot = daily_sessions.pivot_table(index = ['PRE_POST_PERIOD','SESSION_DATE'], \n",
    "                        columns = 'TEST_CONTROL_GROUP', \n",
    "                        values = 'DAILY_SESSIONS',\n",
    "                       aggfunc = 'sum').reset_index().sort_values(by = 'SESSION_DATE').reset_index(drop = True)\n",
    "    \n",
    "    daily_sessions_pivot['diff'] = daily_sessions_pivot['test'] - daily_sessions_pivot['control']\n",
    "    \n",
    "    print(stats.ttest_ind(daily_sessions_pivot[daily_sessions_pivot['PRE_POST_PERIOD'] == 'pre']['diff'], daily_sessions_pivot[daily_sessions_pivot['PRE_POST_PERIOD'] == 'post']['diff'], equal_var = False))\n",
    "    \n",
    "    daily_sessions_pivot.to_clipboard(index = False)\n",
    "    \n",
    "    "
   ]
  },
  {
   "cell_type": "code",
   "execution_count": 244,
   "metadata": {},
   "outputs": [
    {
     "name": "stdout",
     "output_type": "stream",
     "text": [
      "Ttest_indResult(statistic=-7.72800267117263, pvalue=6.698476003576652e-10)\n"
     ]
    }
   ],
   "source": [
    "daily_sessions_values(\"('New York, NY', 'New York NY')\", \"('Boston MA-Manchester NH', 'Chicago IL')\")"
   ]
  },
  {
   "cell_type": "code",
   "execution_count": 245,
   "metadata": {},
   "outputs": [
    {
     "name": "stdout",
     "output_type": "stream",
     "text": [
      "Ttest_indResult(statistic=2.2834455601199597, pvalue=0.02690858171717745)\n"
     ]
    }
   ],
   "source": [
    "daily_sessions_values(\"('San Francisco-Oakland-San Jose CA')\", \"('Seattle-Tacoma WA')\")"
   ]
  },
  {
   "cell_type": "code",
   "execution_count": 246,
   "metadata": {},
   "outputs": [
    {
     "name": "stdout",
     "output_type": "stream",
     "text": [
      "Ttest_indResult(statistic=-11.391680744904338, pvalue=2.0189334291327192e-15)\n"
     ]
    }
   ],
   "source": [
    "daily_sessions_values(\"('Dallas-Ft. Worth TX')\", \"('Houston TX', 'Phoenix AZ')\")"
   ]
  },
  {
   "cell_type": "code",
   "execution_count": 247,
   "metadata": {},
   "outputs": [
    {
     "name": "stdout",
     "output_type": "stream",
     "text": [
      "Ttest_indResult(statistic=1.4776041591325029, pvalue=0.1448605844121858)\n"
     ]
    }
   ],
   "source": [
    "daily_sessions_values(\"('Denver CO')\", \"('San Diego CA')\")"
   ]
  },
  {
   "cell_type": "code",
   "execution_count": 248,
   "metadata": {},
   "outputs": [
    {
     "name": "stdout",
     "output_type": "stream",
     "text": [
      "Ttest_indResult(statistic=-2.773898550618548, pvalue=0.007485231771770038)\n"
     ]
    }
   ],
   "source": [
    "daily_sessions_values(\"('Philadelphia PA')\", \"('Baltimore MD', 'Hartford & New Haven CT')\")"
   ]
  },
  {
   "cell_type": "code",
   "execution_count": null,
   "metadata": {},
   "outputs": [],
   "source": []
  },
  {
   "cell_type": "code",
   "execution_count": null,
   "metadata": {},
   "outputs": [],
   "source": []
  },
  {
   "cell_type": "code",
   "execution_count": null,
   "metadata": {},
   "outputs": [],
   "source": []
  },
  {
   "cell_type": "code",
   "execution_count": null,
   "metadata": {},
   "outputs": [],
   "source": []
  }
 ],
 "metadata": {
  "kernelspec": {
   "display_name": "Python 3",
   "language": "python",
   "name": "python3"
  },
  "language_info": {
   "codemirror_mode": {
    "name": "ipython",
    "version": 3
   },
   "file_extension": ".py",
   "mimetype": "text/x-python",
   "name": "python",
   "nbconvert_exporter": "python",
   "pygments_lexer": "ipython3",
   "version": "3.7.3"
  }
 },
 "nbformat": 4,
 "nbformat_minor": 4
}
